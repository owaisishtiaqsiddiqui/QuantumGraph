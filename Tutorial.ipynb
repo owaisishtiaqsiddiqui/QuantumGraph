{
 "cells": [
  {
   "cell_type": "markdown",
   "metadata": {},
   "source": [
    "# Using QuantumGraph\n",
    "\n",
    "The `quantumgraph` package is designed to help build quantum software using an approach that is different from the one you'll learn in textbooks. Here we'll look into the basics of how it works."
   ]
  },
  {
   "attachments": {},
   "cell_type": "markdown",
   "metadata": {},
   "source": [
    "## Setting up\n",
    "\n",
    "The first step is to install `quantumgraph`. You'll also need to install the a couple of vital dependencies: `pairwise_tomography` and `qiskit-ignis`.\n",
    "\n",
    "One way is to clone this repository, navigate your way into it via command line, and use\n",
    "\n",
    "    pip install -r requirements.txt\n",
    "    pip install .\n",
    "\n",
    "Alternatively, you could try doing in within this notebook by uncommenting the following cell."
   ]
  },
  {
   "cell_type": "code",
   "execution_count": null,
   "metadata": {
    "scrolled": false
   },
   "outputs": [],
   "source": [
    "#!pip install git+https://github.com/if-quantum/pairwise-tomography.git\n",
    "#!pip install qiskit-ignis\n",
    "#!pip install git+https://github.com/qiskit-community/QuantumGraph.git"
   ]
  },
  {
   "cell_type": "markdown",
   "metadata": {},
   "source": [
    "With these things installed, you will need to import the class in which all the magic happens."
   ]
  },
  {
   "cell_type": "code",
   "execution_count": 1,
   "metadata": {},
   "outputs": [],
   "source": [
    "from quantumgraph import QuantumGraph"
   ]
  },
  {
   "cell_type": "markdown",
   "metadata": {},
   "source": [
    "## Initializing the variables\n",
    "\n",
    "Computing is all about encoding information in variables, and then manipulating these variables. So to start we need to understand what variables we will use and how to set them up.\n",
    "\n",
    "The variables in `QuantumGraph` are associated with a set of qubits. We begin by creating a `QuantumGraph` object to hold our qubits. In the example below, we do it for a set of four qubits."
   ]
  },
  {
   "cell_type": "code",
   "execution_count": 2,
   "metadata": {},
   "outputs": [],
   "source": [
    "n = 4\n",
    "qubits = QuantumGraph(n)"
   ]
  },
  {
   "cell_type": "markdown",
   "metadata": {},
   "source": [
    "For each qubit we have three variables, $\\langle X \\rangle$ , $\\langle Y \\rangle$ and $\\langle Z \\rangle$. These are all numbers in the range between $+1$ and $-1$, and they satisfy\n",
    "\n",
    "$$\n",
    "\\langle X \\rangle^2 + \\langle Y \\rangle^2 + \\langle Z \\rangle^2 \\leq 1.\n",
    "$$\n",
    "\n",
    "These values for a qubit `j` can be accessed as a dictionary using the `get_bloch()` method. Here it is in use."
   ]
  },
  {
   "cell_type": "code",
   "execution_count": 3,
   "metadata": {},
   "outputs": [
    {
     "name": "stdout",
     "output_type": "stream",
     "text": [
      "Single qubit variables for qubit 0:\n",
      "{'X': 0.003173828125, 'Y': -0.02490234375, 'Z': 1.0}\n",
      "\n",
      "Single qubit variables for qubit 1:\n",
      "{'X': 0.00439453125, 'Y': 0.006591796875, 'Z': 1.0}\n",
      "\n",
      "Single qubit variables for qubit 2:\n",
      "{'X': -0.01953125, 'Y': -0.001953125, 'Z': 1.0}\n",
      "\n",
      "Single qubit variables for qubit 3:\n",
      "{'X': -0.00390625, 'Y': -0.002685546875, 'Z': 1.0}\n",
      "\n"
     ]
    }
   ],
   "source": [
    "for j in range(n):\n",
    "    print('Single qubit variables for qubit ' + str(j) + ':')\n",
    "    print(qubits.get_bloch(j))\n",
    "    print()"
   ]
  },
  {
   "cell_type": "markdown",
   "metadata": {},
   "source": [
    "For each possible pair of qubits $j$ and $k$, we have a whole bunch of variables: $\\langle X_j X_k \\rangle$, $\\langle X_j Y_k \\rangle$, $\\langle X_j Z_k \\rangle$, $\\langle Y_j X_k \\rangle$, $\\langle Y_j Y_k \\rangle$, etc. For a fairly in-depth explation of these, see [this paper](https://arxiv.org/abs/2005.10327).\n",
    "\n",
    "For now it is sufficient to note these variables are initially completely dependent on the single qubit variables. For example\n",
    "\n",
    "$$\n",
    "\\langle X_j Y_k \\rangle = \\langle X_j \\rangle \\langle Y_k \\rangle.\n",
    "$$\n",
    "\n",
    "They can begin to do different things as a computation proceeds, but they'll always satisfy\n",
    "\n",
    "$$\n",
    "\\langle X_j Y_k \\rangle^2 \\geq \\left( \\langle X_j \\rangle \\langle Y_k \\rangle \\right)^2\n",
    "$$\n",
    "\n",
    "These values for a pair of qubits `j` and `k` can be similarly accessed using the `get_relationship()` method."
   ]
  },
  {
   "cell_type": "code",
   "execution_count": 4,
   "metadata": {},
   "outputs": [
    {
     "name": "stdout",
     "output_type": "stream",
     "text": [
      "Two qubit variables for qubits 0 and 1:\n",
      "{'XX': 0.0078125, 'XY': 0.011962890625, 'XZ': 0.003173828125, 'YX': 0.0048828125, 'YY': 0.002197265625, 'YZ': -0.02490234375, 'ZX': 0.017578125, 'ZY': -0.011962890625, 'ZZ': 1.0}\n",
      "\n",
      "Two qubit variables for qubits 0 and 2:\n",
      "{'XX': 0.009521484375, 'XY': 0.000244140625, 'XZ': -0.00244140625, 'YX': 0.00146484375, 'YY': 0.011962890625, 'YZ': 0.009765625, 'ZX': -0.01953125, 'ZY': -0.001953125, 'ZZ': 1.0}\n",
      "\n",
      "Two qubit variables for qubits 0 and 3:\n",
      "{'XX': 0.008056640625, 'XY': -0.005126953125, 'XZ': 0.02685546875, 'YX': -0.00244140625, 'YY': -0.0048828125, 'YZ': -0.00927734375, 'ZX': 0.011962890625, 'ZY': -0.007080078125, 'ZZ': 1.0}\n",
      "\n",
      "Two qubit variables for qubits 1 and 2:\n",
      "{'XX': -0.005126953125, 'XY': -0.0126953125, 'XZ': 0.00439453125, 'YX': 0.006591796875, 'YY': -0.005859375, 'YZ': 0.006591796875, 'ZX': 0.0068359375, 'ZY': -0.0126953125, 'ZZ': 1.0}\n",
      "\n",
      "Two qubit variables for qubits 1 and 3:\n",
      "{'XX': -0.004638671875, 'XY': 0.005126953125, 'XZ': 0.017578125, 'YX': 0.006591796875, 'YY': 0.008544921875, 'YZ': -0.011962890625, 'ZX': 0.034912109375, 'ZY': -0.02099609375, 'ZZ': 1.0}\n",
      "\n",
      "Two qubit variables for qubits 2 and 3:\n",
      "{'XX': -0.00146484375, 'XY': -0.005859375, 'XZ': -0.01953125, 'YX': -0.003662109375, 'YY': -0.006103515625, 'YZ': -0.001953125, 'ZX': -0.00390625, 'ZY': -0.002685546875, 'ZZ': 1.0}\n",
      "\n"
     ]
    }
   ],
   "source": [
    "for j in range(n-1):\n",
    "    for k in range(j+1,n):\n",
    "        print('Two qubit variables for qubits ' + str(j) + ' and '  + str(k) + ':')\n",
    "        print(qubits.get_relationship(j,k))\n",
    "        print()"
   ]
  },
  {
   "cell_type": "markdown",
   "metadata": {},
   "source": [
    "The results we see above show us that we are in the standard $|000\\rangle$ initial state, for which\n",
    "\n",
    "$$\\langle Z_j \\rangle = \\langle Z_j Z_k \\rangle = 1 \\,\\,\\,\\, \\forall j,k$$\n",
    "\n",
    "All variables involving $X$ and $Y$ are zero. Any deviations from this seen above are due to the fact that the expectation values are statistically calculated."
   ]
  },
  {
   "cell_type": "markdown",
   "metadata": {},
   "source": [
    "## Manipulating qubits\n",
    "\n",
    "The qubits can be manipulated using normal quantum gates. For this we can directly manipulate the quantum circuit for the qubits, which can be accessed through the attribute `qc`. Since `QuantumGraph` is built on Qiskit, this circuit is a Qiskit `QuantumCircuit` object."
   ]
  },
  {
   "cell_type": "code",
   "execution_count": 5,
   "metadata": {},
   "outputs": [
    {
     "data": {
      "image/png": "[encoded data removed]",
      "text/plain": [
       "<Figure size 203.885x367.889 with 1 Axes>"
      ]
     },
     "execution_count": 5,
     "metadata": {},
     "output_type": "execute_result"
    }
   ],
   "source": [
    "qubits.qc.h(0)\n",
    "qubits.qc.draw(output='mpl')"
   ]
  },
  {
   "cell_type": "markdown",
   "metadata": {},
   "source": [
    "Here we applied an `h` gate to qubit 0. However, if we look at the state of this qubit we will find that it has not changed."
   ]
  },
  {
   "cell_type": "code",
   "execution_count": 6,
   "metadata": {},
   "outputs": [
    {
     "data": {
      "text/plain": [
       "{'X': 0.003173828125, 'Y': -0.02490234375, 'Z': 1.0}"
      ]
     },
     "execution_count": 6,
     "metadata": {},
     "output_type": "execute_result"
    }
   ],
   "source": [
    "qubits.get_bloch(0)"
   ]
  },
  {
   "cell_type": "markdown",
   "metadata": {},
   "source": [
    "This is because we actually have to run the circuit in order to update the tomography. This is done using the `update_tomography()` method."
   ]
  },
  {
   "cell_type": "code",
   "execution_count": 7,
   "metadata": {},
   "outputs": [
    {
     "name": "stdout",
     "output_type": "stream",
     "text": [
      "{'X': 1.0, 'Y': -0.001708984375, 'Z': -0.010009765625}\n"
     ]
    }
   ],
   "source": [
    "qubits.update_tomography()\n",
    "print(qubits.get_bloch(0))"
   ]
  },
  {
   "cell_type": "markdown",
   "metadata": {},
   "source": [
    "Now we have $\\langle X \\rangle = 1$ for qubit 0. If you know what an `h` does, this shouldn't come as a surprise (if you didn't know, then now do!)."
   ]
  },
  {
   "cell_type": "markdown",
   "metadata": {},
   "source": [
    "Another way to manipulate the qubits, which is unique to this method, is to give target values for the variables. This is done using the method `set_bloch()`.\n",
    "\n",
    "For example, to set the state of qubit 1 to $\\langle X \\rangle = 1$ we use"
   ]
  },
  {
   "cell_type": "code",
   "execution_count": 8,
   "metadata": {},
   "outputs": [],
   "source": [
    "qubits.set_bloch({'X':1},1)"
   ]
  },
  {
   "cell_type": "markdown",
   "metadata": {},
   "source": [
    "This automatically updates the tomography (unless the keyword `update=False` is added), so we can already verify that it has the correct effect."
   ]
  },
  {
   "cell_type": "code",
   "execution_count": 9,
   "metadata": {},
   "outputs": [
    {
     "name": "stdout",
     "output_type": "stream",
     "text": [
      "{'X': 0.999755859375, 'Y': -0.004150390625, 'Z': -0.004150390625}\n"
     ]
    }
   ],
   "source": [
    "print(qubits.get_bloch(1))"
   ]
  },
  {
   "cell_type": "markdown",
   "metadata": {},
   "source": [
    "The effect was acheived by considering the initial and target tomography, and finding a unitary to get as close to the target as possible."
   ]
  },
  {
   "cell_type": "code",
   "execution_count": 10,
   "metadata": {},
   "outputs": [
    {
     "data": {
      "image/png": "[encoded data removed]",
      "text/plain": [
       "<Figure size 371.107x367.889 with 1 Axes>"
      ]
     },
     "execution_count": 10,
     "metadata": {},
     "output_type": "execute_result"
    }
   ],
   "source": [
    "qubits.qc.draw(output='mpl')"
   ]
  },
  {
   "cell_type": "markdown",
   "metadata": {},
   "source": [
    "It is not as pretty as the off-the-shelf Hadamard gate, but it has the same effect.\n",
    "\n",
    "The target state for the `set_bloch()` method can include multiple values. For example\n"
   ]
  },
  {
   "cell_type": "code",
   "execution_count": 11,
   "metadata": {},
   "outputs": [
    {
     "name": "stdout",
     "output_type": "stream",
     "text": [
      "{'X': 0.716552734375, 'Y': -0.01171875, 'Z': 0.695068359375}\n"
     ]
    }
   ],
   "source": [
    "qubits.set_bloch({'X':1, 'Z':1},2)\n",
    "\n",
    "print(qubits.get_bloch(2))"
   ]
  },
  {
   "cell_type": "markdown",
   "metadata": {},
   "source": [
    "Note that it is not actually possible to set both $\\langle X \\rangle$ and $\\langle Z \\rangle$ of a qubit to $1$, so `set_bloch` just does the best that is possible. For all single qubit values that do not appear in the target state, it is assumed that the target is to set them to zero. So the target used here is equivalent to `{'X':1, 'Y':0, 'Z':1,}`.\n",
    "\n",
    "\n",
    "We can perform similar manipulations on pairs of qubits using the `set_relationship` method. Here we do so for qubits 0 and 1."
   ]
  },
  {
   "cell_type": "code",
   "execution_count": 12,
   "metadata": {},
   "outputs": [
    {
     "name": "stdout",
     "output_type": "stream",
     "text": [
      "{'XX': 1.0, 'XY': 0.010986328125, 'XZ': 0.000732421875, 'YX': 0.01806640625, 'YY': -0.999755859375, 'YZ': -0.026123046875, 'ZX': -0.017333984375, 'ZY': -0.005859375, 'ZZ': 1.0}\n"
     ]
    }
   ],
   "source": [
    "qubits.set_relationship( {'ZZ':1}, 0,1 )\n",
    "\n",
    "print(qubits.get_relationship(0,1))"
   ]
  },
  {
   "cell_type": "markdown",
   "metadata": {},
   "source": [
    "Unlike `set_bloch`, it is not assumed that values not present in the target should be set to zero. Instead, it is assumed that they should be changed as little as possible.\n",
    "\n",
    "In the example above, the target is to set $\\langle Z_0 Z_1 \\rangle = 1$. Note that the state already has $\\langle X_0 \\rangle = \\langle X_0 \\rangle = 1$, and therefore $\\langle X_0 X_1 \\rangle = 1$, from the single qubit manipulations we have already performed. Since $Z_0 Z_1$ and $X_0 X_1$ commute, it is possible to satisfy the target condition on $\\langle Z_0 Z_1 \\rangle$ while maintaining the value of $\\langle X_0 X_1 \\rangle$. It is because of this that we end up with a state with $\\langle X_0 X_1 \\rangle = \\langle Z_0 Z_1 \\rangle = 1$.\n",
    "\n",
    "We can also use `set_relationship()` with multiple values in the target. However, unlike for `set_bloch()`, all the corresponding Paulis must commute to get a well defined effect. For example, for qubits 2 and 3."
   ]
  },
  {
   "cell_type": "code",
   "execution_count": 13,
   "metadata": {},
   "outputs": [
    {
     "name": "stdout",
     "output_type": "stream",
     "text": [
      "{'XX': 0.005859375, 'XY': -0.023193359375, 'XZ': 1.0, 'YX': 0.002197265625, 'YY': 1.0, 'YZ': 0.00439453125, 'ZX': 1.0, 'ZY': 0.004150390625, 'ZZ': -0.01416015625}\n"
     ]
    }
   ],
   "source": [
    "qubits.set_relationship( {'XZ':1,'ZX':1}, 2,3 )\n",
    "\n",
    "print(qubits.get_relationship(2,3))"
   ]
  },
  {
   "cell_type": "markdown",
   "metadata": {},
   "source": [
    "Both `set_bloch` and `set_relationship` also have a `fraction` keyword argument. If we use $U$ to denote the unitary that would have been applied normally, setting a value for `fraction` applies $U^{\\mathtt{fraction}}$ instead.\n",
    "\n",
    "Let's get a fresh pair of qubits to see an example of this."
   ]
  },
  {
   "cell_type": "code",
   "execution_count": 14,
   "metadata": {},
   "outputs": [
    {
     "name": "stdout",
     "output_type": "stream",
     "text": [
      "{'XX': -0.0048828125, 'XY': -0.008544921875, 'XZ': -0.0166015625, 'YX': 0.001953125, 'YY': -0.01611328125, 'YZ': 0.0205078125, 'ZX': 0.015869140625, 'ZY': 0.002197265625, 'ZZ': 1.0}\n"
     ]
    }
   ],
   "source": [
    "qubits = QuantumGraph(2)\n",
    "\n",
    "print(qubits.get_relationship(0,1))"
   ]
  },
  {
   "cell_type": "markdown",
   "metadata": {},
   "source": [
    "Applying `qubits.set_relationship({'XX':1}, 0,1)` would change the state to get $\\langle X_0 X_1 \\rangle = 1$. But let's add in `fraction=0.5` and see what happens."
   ]
  },
  {
   "cell_type": "code",
   "execution_count": 15,
   "metadata": {},
   "outputs": [
    {
     "name": "stdout",
     "output_type": "stream",
     "text": [
      "{'XX': 0.706787109375, 'XY': 0.028076171875, 'XZ': -0.048583984375, 'YX': 0.0205078125, 'YY': -0.714111328125, 'YZ': -0.048828125, 'ZX': 0.0751953125, 'ZY': -0.0244140625, 'ZZ': 0.995849609375}\n"
     ]
    }
   ],
   "source": [
    "qubits.set_relationship( {'XX':1}, 0,1, fraction=0.5 )\n",
    "\n",
    "print(qubits.get_relationship(0,1))"
   ]
  },
  {
   "cell_type": "markdown",
   "metadata": {},
   "source": [
    "Here the value has increased $1/\\sqrt{2}$, but not all the way to $1$. In some sense, it is half way there.\n",
    "\n",
    "If we were to apply exactly the same quantum gate operation again, we would get all the way to $\\langle X_0 X_1 \\rangle = 1$. However, note that we cannot do this by simply repeating the same command, since this would generate a new gate which rotates halfway between the current initial state and the target state."
   ]
  },
  {
   "cell_type": "code",
   "execution_count": 16,
   "metadata": {},
   "outputs": [
    {
     "name": "stdout",
     "output_type": "stream",
     "text": [
      "{'XX': 0.901611328125, 'XY': -0.155517578125, 'XZ': 0.030029296875, 'YX': -0.146728515625, 'YY': -0.90087890625, 'YZ': 0.12744140625, 'ZX': 0.018798828125, 'ZY': 0.1279296875, 'ZZ': 0.98828125}\n"
     ]
    }
   ],
   "source": [
    "qubits.set_relationship( {'XX':1}, 0,1, fraction=0.5 )\n",
    "\n",
    "print(qubits.get_relationship(0,1))"
   ]
  },
  {
   "cell_type": "markdown",
   "metadata": {},
   "source": [
    "# Creating Algorithms\n",
    "\n",
    "By thinking of terms of these single- and two-qubit variables, and by manipulating them using the methods supplied, we can create algorithms to solve problems.\n",
    "\n",
    "A concrete example of this can be seen in\n",
    "\n",
    "* [\"A quantum procedure for map generation\", by James R. Wootton](https://arxiv.org/abs/2005.10327)\n",
    "\n",
    "where `quantumgraph` is used to implement a rudimentary AI for a Civilization-like game.\n",
    "\n",
    "Another example is\n",
    "\n",
    "* [\"Determining eigenstates and thermal states on a quantum computer using quantum imaginary time evolution\" by Motta, et al.](https://arxiv.org/abs/1901.07653)\n",
    "\n",
    "which is presents a method for calculating ground states for Hamiltonians of interacting particles. It uses the same basic idea as is implemented in `quantumgraph`, but with a $p$-local tomography in general (for finite $p$) and with its own custom methods to set the variables."
   ]
  },
  {
   "cell_type": "code",
   "execution_count": null,
   "metadata": {},
   "outputs": [],
   "source": []
  }
 ],
 "metadata": {
  "kernelspec": {
   "display_name": "arc_env",
   "language": "python",
   "name": "python3"
  },
  "language_info": {
   "codemirror_mode": {
    "name": "ipython",
    "version": 3
   },
   "file_extension": ".py",
   "mimetype": "text/x-python",
   "name": "python",
   "nbconvert_exporter": "python",
   "pygments_lexer": "ipython3",
   "version": "3.10.4"
  },
  "vscode": {
   "interpreter": {
    "hash": "bfc7acc7bfbbb21af421e5a3aa8e84383f50b3b075d8dd28d975e858086bc4ec"
   }
  }
 },
 "nbformat": 4,
 "nbformat_minor": 4
}
