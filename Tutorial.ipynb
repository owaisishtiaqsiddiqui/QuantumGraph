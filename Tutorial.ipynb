{
 "cells": [
  {
   "cell_type": "markdown",
   "metadata": {},
   "source": [
    "# Using QuantumGraph\n",
    "\n",
    "The `quantumgraph` package is designed to help build quantum software using an approach that is different from the one you'll learn in textbooks. Here we'll look into the basics of how it works."
   ]
  },
  {
   "cell_type": "markdown",
   "metadata": {},
   "source": [
    "## Setting up\n",
    "\n",
    "The first step is to install `quantumgraph`. You'll also need to install the `pairwise_tomography` package, which is a vital dependency.\n",
    "\n",
    "This can be done by pip installing directly from the repositories. This is usually done with the command line, but you can do it in Jupyter notebooks too. The syntax for Jupyter notebooks is as follows."
   ]
  },
  {
   "cell_type": "code",
   "execution_count": 2,
   "metadata": {
    "scrolled": false
   },
   "outputs": [
    {
     "name": "stdout",
     "output_type": "stream",
     "text": [
      "Collecting git+https://github.com/if-quantum/pairwise-tomography.git\n",
      "  Cloning https://github.com/if-quantum/pairwise-tomography.git to c:\\users\\owais\\appdata\\local\\temp\\pip-req-build-pr1376__\n",
      "  Resolved https://github.com/if-quantum/pairwise-tomography.git to commit 508318daaf943445d92aedd82330ebe45823d400\n",
      "  Installing build dependencies: started\n",
      "  Installing build dependencies: finished with status 'done'\n",
      "  Getting requirements to build wheel: started\n",
      "  Getting requirements to build wheel: finished with status 'done'\n",
      "  Preparing metadata (pyproject.toml): started\n",
      "  Preparing metadata (pyproject.toml): finished with status 'done'\n",
      "Requirement already satisfied: qiskit>=0.19 in d:\\phd\\unitaryhack25\\quantumgraph\\.venv\\lib\\site-packages (from pairwise-tomography==0.0.2) (2.0.2)\n",
      "Requirement already satisfied: scipy in d:\\phd\\unitaryhack25\\quantumgraph\\.venv\\lib\\site-packages (from pairwise-tomography==0.0.2) (1.15.3)\n",
      "Requirement already satisfied: matplotlib in d:\\phd\\unitaryhack25\\quantumgraph\\.venv\\lib\\site-packages (from pairwise-tomography==0.0.2) (3.10.3)\n",
      "Requirement already satisfied: networkx in d:\\phd\\unitaryhack25\\quantumgraph\\.venv\\lib\\site-packages (from pairwise-tomography==0.0.2) (3.5)\n",
      "Requirement already satisfied: rustworkx>=0.15.0 in d:\\phd\\unitaryhack25\\quantumgraph\\.venv\\lib\\site-packages (from qiskit>=0.19->pairwise-tomography==0.0.2) (0.16.0)\n",
      "Requirement already satisfied: numpy<3,>=1.17 in d:\\phd\\unitaryhack25\\quantumgraph\\.venv\\lib\\site-packages (from qiskit>=0.19->pairwise-tomography==0.0.2) (2.2.6)\n",
      "Requirement already satisfied: sympy>=1.3 in d:\\phd\\unitaryhack25\\quantumgraph\\.venv\\lib\\site-packages (from qiskit>=0.19->pairwise-tomography==0.0.2) (1.14.0)\n",
      "Requirement already satisfied: dill>=0.3 in d:\\phd\\unitaryhack25\\quantumgraph\\.venv\\lib\\site-packages (from qiskit>=0.19->pairwise-tomography==0.0.2) (0.4.0)\n",
      "Requirement already satisfied: python-dateutil>=2.8.0 in d:\\phd\\unitaryhack25\\quantumgraph\\.venv\\lib\\site-packages (from qiskit>=0.19->pairwise-tomography==0.0.2) (2.9.0.post0)\n",
      "Requirement already satisfied: stevedore>=3.0.0 in d:\\phd\\unitaryhack25\\quantumgraph\\.venv\\lib\\site-packages (from qiskit>=0.19->pairwise-tomography==0.0.2) (5.4.1)\n",
      "Requirement already satisfied: typing-extensions in d:\\phd\\unitaryhack25\\quantumgraph\\.venv\\lib\\site-packages (from qiskit>=0.19->pairwise-tomography==0.0.2) (4.13.2)\n",
      "Requirement already satisfied: symengine<0.14,>=0.11 in d:\\phd\\unitaryhack25\\quantumgraph\\.venv\\lib\\site-packages (from qiskit>=0.19->pairwise-tomography==0.0.2) (0.13.0)\n",
      "Requirement already satisfied: six>=1.5 in d:\\phd\\unitaryhack25\\quantumgraph\\.venv\\lib\\site-packages (from python-dateutil>=2.8.0->qiskit>=0.19->pairwise-tomography==0.0.2) (1.17.0)\n",
      "Requirement already satisfied: pbr>=2.0.0 in d:\\phd\\unitaryhack25\\quantumgraph\\.venv\\lib\\site-packages (from stevedore>=3.0.0->qiskit>=0.19->pairwise-tomography==0.0.2) (6.1.1)\n",
      "Requirement already satisfied: setuptools in d:\\phd\\unitaryhack25\\quantumgraph\\.venv\\lib\\site-packages (from pbr>=2.0.0->stevedore>=3.0.0->qiskit>=0.19->pairwise-tomography==0.0.2) (65.5.0)\n",
      "Requirement already satisfied: mpmath<1.4,>=1.1.0 in d:\\phd\\unitaryhack25\\quantumgraph\\.venv\\lib\\site-packages (from sympy>=1.3->qiskit>=0.19->pairwise-tomography==0.0.2) (1.3.0)\n",
      "Requirement already satisfied: contourpy>=1.0.1 in d:\\phd\\unitaryhack25\\quantumgraph\\.venv\\lib\\site-packages (from matplotlib->pairwise-tomography==0.0.2) (1.3.2)\n",
      "Requirement already satisfied: cycler>=0.10 in d:\\phd\\unitaryhack25\\quantumgraph\\.venv\\lib\\site-packages (from matplotlib->pairwise-tomography==0.0.2) (0.12.1)\n",
      "Requirement already satisfied: fonttools>=4.22.0 in d:\\phd\\unitaryhack25\\quantumgraph\\.venv\\lib\\site-packages (from matplotlib->pairwise-tomography==0.0.2) (4.58.1)\n",
      "Requirement already satisfied: kiwisolver>=1.3.1 in d:\\phd\\unitaryhack25\\quantumgraph\\.venv\\lib\\site-packages (from matplotlib->pairwise-tomography==0.0.2) (1.4.8)\n",
      "Requirement already satisfied: packaging>=20.0 in d:\\phd\\unitaryhack25\\quantumgraph\\.venv\\lib\\site-packages (from matplotlib->pairwise-tomography==0.0.2) (25.0)\n",
      "Requirement already satisfied: pillow>=8 in d:\\phd\\unitaryhack25\\quantumgraph\\.venv\\lib\\site-packages (from matplotlib->pairwise-tomography==0.0.2) (11.2.1)\n",
      "Requirement already satisfied: pyparsing>=2.3.1 in d:\\phd\\unitaryhack25\\quantumgraph\\.venv\\lib\\site-packages (from matplotlib->pairwise-tomography==0.0.2) (3.2.3)\n"
     ]
    },
    {
     "name": "stderr",
     "output_type": "stream",
     "text": [
      "  Running command git clone --filter=blob:none --quiet https://github.com/if-quantum/pairwise-tomography.git 'C:\\Users\\Owais\\AppData\\Local\\Temp\\pip-req-build-pr1376__'\n"
     ]
    },
    {
     "name": "stdout",
     "output_type": "stream",
     "text": [
      "Collecting git+https://github.com/qiskit-community/QuantumGraph.git\n",
      "  Cloning https://github.com/qiskit-community/QuantumGraph.git to c:\\users\\owais\\appdata\\local\\temp\\pip-req-build-zfhbrv54\n",
      "  Resolved https://github.com/qiskit-community/QuantumGraph.git to commit 3c99ab256a3c5c6041399b3e1d6fdd2375e8ba96\n",
      "  Installing build dependencies: started\n",
      "  Installing build dependencies: finished with status 'done'\n",
      "  Getting requirements to build wheel: started\n",
      "  Getting requirements to build wheel: finished with status 'done'\n",
      "  Preparing metadata (pyproject.toml): started\n",
      "  Preparing metadata (pyproject.toml): finished with status 'done'\n",
      "Requirement already satisfied: qiskit in d:\\phd\\unitaryhack25\\quantumgraph\\.venv\\lib\\site-packages (from quantumgraph==0.0.1) (2.0.2)\n",
      "Requirement already satisfied: scipy in d:\\phd\\unitaryhack25\\quantumgraph\\.venv\\lib\\site-packages (from quantumgraph==0.0.1) (1.15.3)\n",
      "Requirement already satisfied: pairwise_tomography in d:\\phd\\unitaryhack25\\quantumgraph\\.venv\\lib\\site-packages (from quantumgraph==0.0.1) (0.0.2)\n",
      "Requirement already satisfied: matplotlib in d:\\phd\\unitaryhack25\\quantumgraph\\.venv\\lib\\site-packages (from pairwise_tomography->quantumgraph==0.0.1) (3.10.3)\n",
      "Requirement already satisfied: networkx in d:\\phd\\unitaryhack25\\quantumgraph\\.venv\\lib\\site-packages (from pairwise_tomography->quantumgraph==0.0.1) (3.5)\n",
      "Requirement already satisfied: rustworkx>=0.15.0 in d:\\phd\\unitaryhack25\\quantumgraph\\.venv\\lib\\site-packages (from qiskit->quantumgraph==0.0.1) (0.16.0)\n",
      "Requirement already satisfied: numpy<3,>=1.17 in d:\\phd\\unitaryhack25\\quantumgraph\\.venv\\lib\\site-packages (from qiskit->quantumgraph==0.0.1) (2.2.6)\n",
      "Requirement already satisfied: sympy>=1.3 in d:\\phd\\unitaryhack25\\quantumgraph\\.venv\\lib\\site-packages (from qiskit->quantumgraph==0.0.1) (1.14.0)\n",
      "Requirement already satisfied: dill>=0.3 in d:\\phd\\unitaryhack25\\quantumgraph\\.venv\\lib\\site-packages (from qiskit->quantumgraph==0.0.1) (0.4.0)\n",
      "Requirement already satisfied: python-dateutil>=2.8.0 in d:\\phd\\unitaryhack25\\quantumgraph\\.venv\\lib\\site-packages (from qiskit->quantumgraph==0.0.1) (2.9.0.post0)\n",
      "Requirement already satisfied: stevedore>=3.0.0 in d:\\phd\\unitaryhack25\\quantumgraph\\.venv\\lib\\site-packages (from qiskit->quantumgraph==0.0.1) (5.4.1)\n",
      "Requirement already satisfied: typing-extensions in d:\\phd\\unitaryhack25\\quantumgraph\\.venv\\lib\\site-packages (from qiskit->quantumgraph==0.0.1) (4.13.2)\n",
      "Requirement already satisfied: symengine<0.14,>=0.11 in d:\\phd\\unitaryhack25\\quantumgraph\\.venv\\lib\\site-packages (from qiskit->quantumgraph==0.0.1) (0.13.0)\n",
      "Requirement already satisfied: six>=1.5 in d:\\phd\\unitaryhack25\\quantumgraph\\.venv\\lib\\site-packages (from python-dateutil>=2.8.0->qiskit->quantumgraph==0.0.1) (1.17.0)\n",
      "Requirement already satisfied: pbr>=2.0.0 in d:\\phd\\unitaryhack25\\quantumgraph\\.venv\\lib\\site-packages (from stevedore>=3.0.0->qiskit->quantumgraph==0.0.1) (6.1.1)\n",
      "Requirement already satisfied: setuptools in d:\\phd\\unitaryhack25\\quantumgraph\\.venv\\lib\\site-packages (from pbr>=2.0.0->stevedore>=3.0.0->qiskit->quantumgraph==0.0.1) (65.5.0)\n",
      "Requirement already satisfied: mpmath<1.4,>=1.1.0 in d:\\phd\\unitaryhack25\\quantumgraph\\.venv\\lib\\site-packages (from sympy>=1.3->qiskit->quantumgraph==0.0.1) (1.3.0)\n",
      "Requirement already satisfied: contourpy>=1.0.1 in d:\\phd\\unitaryhack25\\quantumgraph\\.venv\\lib\\site-packages (from matplotlib->pairwise_tomography->quantumgraph==0.0.1) (1.3.2)\n",
      "Requirement already satisfied: cycler>=0.10 in d:\\phd\\unitaryhack25\\quantumgraph\\.venv\\lib\\site-packages (from matplotlib->pairwise_tomography->quantumgraph==0.0.1) (0.12.1)\n",
      "Requirement already satisfied: fonttools>=4.22.0 in d:\\phd\\unitaryhack25\\quantumgraph\\.venv\\lib\\site-packages (from matplotlib->pairwise_tomography->quantumgraph==0.0.1) (4.58.1)\n",
      "Requirement already satisfied: kiwisolver>=1.3.1 in d:\\phd\\unitaryhack25\\quantumgraph\\.venv\\lib\\site-packages (from matplotlib->pairwise_tomography->quantumgraph==0.0.1) (1.4.8)\n",
      "Requirement already satisfied: packaging>=20.0 in d:\\phd\\unitaryhack25\\quantumgraph\\.venv\\lib\\site-packages (from matplotlib->pairwise_tomography->quantumgraph==0.0.1) (25.0)\n",
      "Requirement already satisfied: pillow>=8 in d:\\phd\\unitaryhack25\\quantumgraph\\.venv\\lib\\site-packages (from matplotlib->pairwise_tomography->quantumgraph==0.0.1) (11.2.1)\n",
      "Requirement already satisfied: pyparsing>=2.3.1 in d:\\phd\\unitaryhack25\\quantumgraph\\.venv\\lib\\site-packages (from matplotlib->pairwise_tomography->quantumgraph==0.0.1) (3.2.3)\n"
     ]
    },
    {
     "name": "stderr",
     "output_type": "stream",
     "text": [
      "  Running command git clone --filter=blob:none --quiet https://github.com/qiskit-community/QuantumGraph.git 'C:\\Users\\Owais\\AppData\\Local\\Temp\\pip-req-build-zfhbrv54'\n"
     ]
    }
   ],
   "source": [
    "!pip install git+https://github.com/if-quantum/pairwise-tomography.git\n",
    "!pip install git+https://github.com/qiskit-community/QuantumGraph.git"
   ]
  },
  {
   "cell_type": "code",
   "execution_count": 2,
   "metadata": {},
   "outputs": [
    {
     "name": "stdout",
     "output_type": "stream",
     "text": [
      "2.0.2\n"
     ]
    }
   ],
   "source": [
    "import qiskit\n",
    "print(qiskit.__version__)"
   ]
  },
  {
   "cell_type": "markdown",
   "metadata": {},
   "source": [
    "With these things installed, you will need to import the class in which all the magic happens."
   ]
  },
  {
   "cell_type": "code",
   "execution_count": 3,
   "metadata": {},
   "outputs": [
    {
     "name": "stdout",
     "output_type": "stream",
     "text": [
      "Name: qiskit\n",
      "Version: 2.0.2\n",
      "Summary: An open-source SDK for working with quantum computers at the level of extended quantum circuits, operators, and primitives.\n",
      "Home-page: https://www.ibm.com/quantum/qiskit\n",
      "Author: \n",
      "Author-email: Qiskit Development Team <qiskit@us.ibm.com>\n",
      "License: Apache 2.0\n",
      "Location: d:\\PHD\\unitaryhack25\\QuantumGraph\\.venv\\Lib\\site-packages\n",
      "Requires: dill, numpy, python-dateutil, rustworkx, scipy, stevedore, symengine, sympy, typing-extensions\n",
      "Required-by: pairwise-tomography, qiskit-aer, qiskit-experiments, qiskit-ibm-experiment, qiskit-ibm-runtime, quantumgraph\n",
      "Note: you may need to restart the kernel to use updated packages.\n"
     ]
    }
   ],
   "source": [
    "%pip show qiskit"
   ]
  },
  {
   "cell_type": "code",
   "execution_count": 1,
   "metadata": {},
   "outputs": [
    {
     "name": "stdout",
     "output_type": "stream",
     "text": [
      "An IBMQ account could not be loaded\n"
     ]
    }
   ],
   "source": [
    "from quantumgraph import QuantumGraph"
   ]
  },
  {
   "cell_type": "markdown",
   "metadata": {},
   "source": [
    "n = 4\n",
    "qubits = QuantumGraph(n)"
   ]
  },
  {
   "cell_type": "markdown",
   "metadata": {},
   "source": [
    "## Initializing the variables\n",
    "\n",
    "Computing is all about encoding information in variables, and then manipulating these variables. So to start we need to understand what variables we will use and how to set them up.\n",
    "\n",
    "The variables in `QuantumGraph` are associated with a set of qubits. We begin by creating a `QuantumGraph` object to hold our qubits. In the example below, we do it for a set of four qubits."
   ]
  },
  {
   "cell_type": "code",
   "execution_count": 2,
   "metadata": {},
   "outputs": [],
   "source": [
    "n = 4\n",
    "qubits = QuantumGraph(n)"
   ]
  },
  {
   "cell_type": "markdown",
   "metadata": {},
   "source": [
    "For each qubit we have three variables, $\\langle X \\rangle$ , $\\langle Y \\rangle$ and $\\langle Z \\rangle$. These are all numbers in the range between $+1$ and $-1$, and they satisfy\n",
    "\n",
    "$$\n",
    "\\langle X \\rangle^2 + \\langle Y \\rangle^2 + \\langle Z \\rangle^2 \\leq 1.\n",
    "$$\n",
    "\n",
    "These values for a qubit `j` can be accessed as a dictionary using the `get_bloch()` method. Here it is in use."
   ]
  },
  {
   "cell_type": "code",
   "execution_count": 3,
   "metadata": {},
   "outputs": [
    {
     "name": "stdout",
     "output_type": "stream",
     "text": [
      "Single qubit variables for qubit 0:\n",
      "Qubit 0 Bloch vector: {'X': np.float64(0.9939677400124153), 'Y': np.float64(0.0008195035360849044), 'Z': np.float64(-0.0003791369238143288)}\n",
      "\n",
      "Single qubit variables for qubit 1:\n",
      "Qubit 1 Bloch vector: {'X': np.float64(0.0008262197889279327), 'Y': np.float64(-0.004741376208832112), 'Z': np.float64(0.9940590700797417)}\n",
      "\n",
      "Single qubit variables for qubit 2:\n",
      "Qubit 2 Bloch vector: {'X': np.float64(-0.005049482204310397), 'Y': np.float64(-0.000408117376043233), 'Z': np.float64(0.9938362906880577)}\n",
      "\n",
      "Single qubit variables for qubit 3:\n",
      "Qubit 3 Bloch vector: {'X': np.float64(-0.0003959509375363197), 'Y': np.float64(0.0016893110969615124), 'Z': np.float64(0.9935069616021702)}\n",
      "\n"
     ]
    }
   ],
   "source": [
    "# Apply Hadamard to qubit 0\n",
    "qubits.qc.h(0)\n",
    "\n",
    "# Update tomography\n",
    "qubits.update_tomography()\n",
    "\n",
    "# Print Bloch vectors\n",
    "for j in range(n):\n",
    "    print('Single qubit variables for qubit ' + str(j) + ':')\n",
    "    print(f\"Qubit {j} Bloch vector: {qubits.get_bloch(j)}\")\n",
    "    print()"
   ]
  },
  {
   "cell_type": "markdown",
   "metadata": {},
   "source": [
    "For each possible pair of qubits $j$ and $k$, we have a whole bunch of variables: $\\langle X_j X_k \\rangle$, $\\langle X_j Y_k \\rangle$, $\\langle X_j Z_k \\rangle$, $\\langle Y_j X_k \\rangle$, $\\langle Y_j Y_k \\rangle$, etc. For a fairly in-depth explation of these, see [this paper](https://arxiv.org/abs/2005.10327).\n",
    "\n",
    "For now it is sufficient to note these variables are initially completely dependent on the single qubit variables. For example\n",
    "\n",
    "$$\n",
    "\\langle X_j Y_k \\rangle = \\langle X_j \\rangle \\langle Y_k \\rangle.\n",
    "$$\n",
    "\n",
    "They can begin to do different things as a computation proceeds, but they'll always satisfy\n",
    "\n",
    "$$\n",
    "\\langle X_j Y_k \\rangle^2 \\geq \\left( \\langle X_j \\rangle \\langle Y_k \\rangle \\right)^2\n",
    "$$\n",
    "\n",
    "These values for a pair of qubits `j` and `k` can be similarly accessed using the `get_relationship()` method."
   ]
  },
  {
   "cell_type": "code",
   "execution_count": 4,
   "metadata": {},
   "outputs": [
    {
     "name": "stdout",
     "output_type": "stream",
     "text": [
      "Two qubit variables for qubits 0 and 1:\n",
      "{'XX': np.float64(0.0014219438151145528), 'XY': np.float64(0.005323486156579606), 'XZ': np.float64(0.0006883723121234815), 'YX': np.float64(0.0041182801167754645), 'YY': np.float64(-0.0021303544947748393), 'YZ': np.float64(-0.0012623357751703412), 'ZX': np.float64(-0.0071175899292998555), 'ZY': np.float64(-0.0006431834266215334), 'ZZ': np.float64(0.9938136490517088)}\n",
      "\n",
      "Two qubit variables for qubits 0 and 2:\n",
      "{'XX': np.float64(0.00015361688821232864), 'XY': np.float64(0.001158943100239818), 'XZ': np.float64(-0.001401910961523385), 'YX': np.float64(-0.000794343249785744), 'YY': np.float64(-0.0016981931256347233), 'YZ': np.float64(0.0011467225259111447), 'ZX': np.float64(0.0030680952758608236), 'ZY': np.float64(-0.0046135758992278605), 'ZZ': np.float64(0.9918474429335614)}\n",
      "\n",
      "Two qubit variables for qubits 0 and 3:\n",
      "{'XX': np.float64(0.00046149425416387767), 'XY': np.float64(-4.2544544155818e-05), 'XZ': np.float64(-0.000610457458200922), 'YX': np.float64(0.0017718183922378027), 'YY': np.float64(-7.408166241592478e-05), 'YZ': np.float64(0.002572777275922944), 'ZX': np.float64(0.9913215581127939), 'ZY': np.float64(-0.0006137653937194885), 'ZZ': np.float64(0.0005017234849415749)}\n",
      "\n",
      "Two qubit variables for qubits 1 and 2:\n",
      "{'XX': np.float64(-0.0010507777523255462), 'XY': np.float64(-0.0028411183592697772), 'XZ': np.float64(-0.0055843095678094435), 'YX': np.float64(-0.0019941706581297395), 'YY': np.float64(-0.0005970076134955235), 'YZ': np.float64(0.00046786318375096003), 'ZX': np.float64(0.0009200039191526574), 'ZY': np.float64(-0.0029330457800088514), 'ZZ': np.float64(0.9925208435119538)}\n",
      "\n",
      "Two qubit variables for qubits 1 and 3:\n",
      "{'XX': np.float64(-0.004436812030322463), 'XY': np.float64(-0.0002595651309677265), 'XZ': np.float64(-0.0024597793812782547), 'YX': np.float64(0.00042451577936949785), 'YY': np.float64(-0.0018446167705369046), 'YZ': np.float64(-0.005075857691022541), 'ZX': np.float64(0.9918368411391013), 'ZY': np.float64(-0.0009750662509154928), 'ZZ': np.float64(-0.0010363713198846998)}\n",
      "\n",
      "Two qubit variables for qubits 2 and 3:\n",
      "{'XX': np.float64(0.0003880761047751176), 'XY': np.float64(-0.0032529545488969784), 'XZ': np.float64(-0.007447346174863648), 'YX': np.float64(-0.0026756239446920297), 'YY': np.float64(-0.00553036649156859), 'YZ': np.float64(0.0016608858740809486), 'ZX': np.float64(0.992961754216468), 'ZY': np.float64(0.0008528448910559061), 'ZZ': np.float64(-0.0013830136082455297)}\n",
      "\n"
     ]
    }
   ],
   "source": [
    "for j in range(n-1):\n",
    "    for k in range(j+1,n):\n",
    "        print('Two qubit variables for qubits ' + str(j) + ' and '  + str(k) + ':')\n",
    "        print(qubits.get_relationship(j,k))\n",
    "        print()"
   ]
  },
  {
   "cell_type": "markdown",
   "metadata": {},
   "source": [
    "The results we see above show us that we are in the standard $|000\\rangle$ initial state, for which\n",
    "\n",
    "$$\\langle Z_j \\rangle = \\langle Z_j Z_k \\rangle = 1 \\,\\,\\,\\, \\forall j,k$$\n",
    "\n",
    "All variables involving $X$ and $Y$ are zero. Any deviations from this seen above are due to the fact that the expectation values are statistically calculated."
   ]
  },
  {
   "cell_type": "markdown",
   "metadata": {},
   "source": [
    "## Manipulating qubits\n",
    "\n",
    "The qubits can be manipulated using normal quantum gates. For this we can directly manipulate the quantum circuit for the qubits, which can be accessed through the attribute `qc`. Since `QuantumGraph` is built on Qiskit, this circuit is a Qiskit `QuantumCircuit` object."
   ]
  },
  {
   "cell_type": "code",
   "execution_count": 5,
   "metadata": {},
   "outputs": [
    {
     "data": {
      "image/png": "[encoded data removed]",
      "text/plain": [
       "<Figure size 203.885x367.889 with 1 Axes>"
      ]
     },
     "execution_count": 5,
     "metadata": {},
     "output_type": "execute_result"
    }
   ],
   "source": [
    "#qubits.qc.h(0)\n",
    "qubits.qc.draw(output='mpl')"
   ]
  },
  {
   "cell_type": "markdown",
   "metadata": {},
   "source": [
    "Here we applied an `h` gate to qubit 0. However, if we look at the state of this qubit we will find that it has not changed."
   ]
  },
  {
   "cell_type": "code",
   "execution_count": 6,
   "metadata": {},
   "outputs": [
    {
     "data": {
      "text/plain": [
       "{'X': np.float64(0.9939677400124153),\n",
       " 'Y': np.float64(0.0008195035360849044),\n",
       " 'Z': np.float64(-0.0003791369238143288)}"
      ]
     },
     "execution_count": 6,
     "metadata": {},
     "output_type": "execute_result"
    }
   ],
   "source": [
    "qubits.get_bloch(0)"
   ]
  },
  {
   "cell_type": "markdown",
   "metadata": {},
   "source": [
    "This is because we actually have to run the circuit in order to update the tomography. This is done using the `update_tomography()` method."
   ]
  },
  {
   "cell_type": "code",
   "execution_count": 7,
   "metadata": {},
   "outputs": [
    {
     "name": "stdout",
     "output_type": "stream",
     "text": [
      "{'X': np.float64(0.9939677400124153), 'Y': np.float64(0.0008195035360849044), 'Z': np.float64(-0.0003791369238143288)}\n"
     ]
    }
   ],
   "source": [
    "#qubits.update_tomography() The updae is already done after the Hadamard gate\n",
    "print(qubits.get_bloch(0))"
   ]
  },
  {
   "cell_type": "markdown",
   "metadata": {},
   "source": [
    "Now we have $\\langle X \\rangle = 1$ for qubit 0. If you know what an `h` does, this shouldn't come as a surprise (if you didn't know, then now do!)."
   ]
  },
  {
   "cell_type": "markdown",
   "metadata": {},
   "source": [
    "Another way to manipulate the qubits, which is unique to this method, is to give target values for the variables. This is done using the method `set_bloch()`.\n",
    "\n",
    "For example, to set the state of qubit 1 to $\\langle X \\rangle = 1$ we use"
   ]
  },
  {
   "cell_type": "code",
   "execution_count": 8,
   "metadata": {},
   "outputs": [
    {
     "name": "stdout",
     "output_type": "stream",
     "text": [
      "set_bloch called for qubit 1 with target_expect: {'X': 1}, fraction: 1, update: True\n",
      "Current Bloch vector for qubit 1: {'X': np.float64(0.0008262197889279327), 'Y': np.float64(-0.004741376208832112), 'Z': np.float64(0.9940590700797417)}\n",
      "Target Bloch vector for qubit 1: {'X': 1, 'Y': 0, 'Z': 0}\n",
      "Computed unitary matrix U for qubit 1:\n",
      "[[ 0.70739857-0.00168633j -0.70681085+0.00168633j]\n",
      " [ 0.70681085+0.00168633j  0.70739857+0.00168633j]]\n",
      "Fractional unitary matrix U for qubit 1 (fraction=1):\n",
      "[[ 0.70739857-0.00168633j -0.70681085+0.00168633j]\n",
      " [ 0.70681085+0.00168633j  0.70739857+0.00168633j]]\n",
      "Euler angles for qubit 1: theta=1.5699651788023983, phi=0.004769676567866081, lambda=-1.9821574240418832e-06\n",
      "Tomography updated after applying set_bloch.\n"
     ]
    }
   ],
   "source": [
    "qubits.set_bloch({'X':1},1)"
   ]
  },
  {
   "cell_type": "markdown",
   "metadata": {},
   "source": [
    "This automatically updates the tomography (unless the keyword `update=False` is added), so we can already verify that it has the correct effect."
   ]
  },
  {
   "cell_type": "code",
   "execution_count": 9,
   "metadata": {},
   "outputs": [
    {
     "name": "stdout",
     "output_type": "stream",
     "text": [
      "{'X': np.float64(0.9925498389789031), 'Y': np.float64(0.0037538264480621824), 'Z': np.float64(-0.0028777398822130706)}\n"
     ]
    }
   ],
   "source": [
    "print(qubits.get_bloch(1))"
   ]
  },
  {
   "cell_type": "markdown",
   "metadata": {},
   "source": [
    "The effect was acheived by considering the initial and target tomography, and finding a unitary to get as close to the target as possible."
   ]
  },
  {
   "cell_type": "code",
   "execution_count": 10,
   "metadata": {},
   "outputs": [
    {
     "data": {
      "image/png": "[encoded data removed]",
      "text/plain": [
       "<Figure size 371.107x367.889 with 1 Axes>"
      ]
     },
     "execution_count": 10,
     "metadata": {},
     "output_type": "execute_result"
    }
   ],
   "source": [
    "qubits.qc.draw(output='mpl')"
   ]
  },
  {
   "cell_type": "markdown",
   "metadata": {},
   "source": [
    "It is not as pretty as the off-the-shelf Hadamard gate, but it has the same effect.\n",
    "\n",
    "The target state for the `set_bloch()` method can include multiple values. For example\n"
   ]
  },
  {
   "cell_type": "code",
   "execution_count": 11,
   "metadata": {},
   "outputs": [
    {
     "name": "stdout",
     "output_type": "stream",
     "text": [
      "set_bloch called for qubit 2 with target_expect: {'X': 1, 'Z': 1}, fraction: 1, update: True\n",
      "Current Bloch vector for qubit 2: {'X': np.float64(-0.004701358628406739), 'Y': np.float64(-0.001995095652117294), 'Z': np.float64(0.9937641892875317)}\n",
      "Target Bloch vector for qubit 2: {'X': 1, 'Z': 1, 'Y': 0}\n",
      "Computed unitary matrix U for qubit 2:\n",
      "[[ 0.92297128-0.00038414j -0.38486752+0.00092739j]\n",
      " [ 0.38486752+0.00092739j  0.92297128+0.00038414j]]\n",
      "Fractional unitary matrix U for qubit 2 (fraction=1):\n",
      "[[ 0.92297128-0.00038414j -0.38486752+0.00092739j]\n",
      " [ 0.38486752+0.00092739j  0.92297128+0.00038414j]]\n",
      "Euler angles for qubit 2: theta=0.7901309837038293, phi=0.002825819904575497, lambda=-0.0019934286168652496\n",
      "Tomography updated after applying set_bloch.\n",
      "{'X': np.float64(0.7052826568210342), 'Y': np.float64(-0.0007845758349594298), 'Z': np.float64(0.700082828639879)}\n"
     ]
    }
   ],
   "source": [
    "qubits.set_bloch({'X':1, 'Z':1},2)\n",
    "\n",
    "print(qubits.get_bloch(2))"
   ]
  },
  {
   "cell_type": "markdown",
   "metadata": {},
   "source": [
    "Note that it is not actually possible to set both $\\langle X \\rangle$ and $\\langle Z \\rangle$ of a qubit to $1$, so `set_bloch` just does the best that is possible. For all single qubit values that do not appear in the target state, it is assumed that the target is to set them to zero. So the target used here is equivalent to `{'X':1, 'Y':0, 'Z':1,}`.\n",
    "\n",
    "\n",
    "We can perform similar manipulations on pairs of qubits using the `set_relationship` method. Here we do so for qubits 0 and 1."
   ]
  },
  {
   "cell_type": "code",
   "execution_count": 12,
   "metadata": {},
   "outputs": [
    {
     "name": "stdout",
     "output_type": "stream",
     "text": [
      "{'XX': np.float64(-0.0015117742285091075), 'XY': np.float64(-0.006733817034492835), 'XZ': np.float64(0.00012032564744242412), 'YX': np.float64(-0.008400688316418919), 'YY': np.float64(0.0008510508496081528), 'YZ': np.float64(0.0005229370528420845), 'ZX': np.float64(0.7053482562989213), 'ZY': np.float64(0.0026309260670068215), 'ZZ': np.float64(0.6988488542996263)}\n"
     ]
    }
   ],
   "source": [
    "qubits.set_relationship( {'ZZ':1}, 0,1 )\n",
    "\n",
    "print(qubits.get_relationship(0,1))"
   ]
  },
  {
   "cell_type": "markdown",
   "metadata": {},
   "source": [
    "Unlike `set_bloch`, it is not assumed that values not present in the target should be set to zero. Instead, it is assumed that they should be changed as little as possible.\n",
    "\n",
    "In the example above, the target is to set $\\langle Z_0 Z_1 \\rangle = 1$. Note that the state already has $\\langle X_0 \\rangle = \\langle X_0 \\rangle = 1$, and therefore $\\langle X_0 X_1 \\rangle = 1$, from the single qubit manipulations we have already performed. Since $Z_0 Z_1$ and $X_0 X_1$ commute, it is possible to satisfy the target condition on $\\langle Z_0 Z_1 \\rangle$ while maintaining the value of $\\langle X_0 X_1 \\rangle$. It is because of this that we end up with a state with $\\langle X_0 X_1 \\rangle = \\langle Z_0 Z_1 \\rangle = 1$.\n",
    "\n",
    "We can also use `set_relationship()` with multiple values in the target. However, unlike for `set_bloch()`, all the corresponding Paulis must commute to get a well defined effect. For example, for qubits 2 and 3."
   ]
  },
  {
   "cell_type": "code",
   "execution_count": 13,
   "metadata": {},
   "outputs": [
    {
     "name": "stdout",
     "output_type": "stream",
     "text": [
      "{'XX': np.float64(0.993616213681217), 'XY': np.float64(0.005473213971160117), 'XZ': np.float64(0.0066138259552327595), 'YX': np.float64(0.00611439066669324), 'YY': np.float64(-0.9932725409258816), 'YZ': np.float64(-0.004073296477541708), 'ZX': np.float64(-0.009339975663899054), 'ZY': np.float64(-0.003093246464962925), 'ZZ': np.float64(0.9942718324088231)}\n"
     ]
    }
   ],
   "source": [
    "qubits.set_relationship( {'XZ':1,'ZX':1}, 2,3 )\n",
    "\n",
    "print(qubits.get_relationship(2,3))"
   ]
  },
  {
   "cell_type": "markdown",
   "metadata": {},
   "source": [
    "Both `set_bloch` and `set_relationship` also have a `fraction` keyword argument. If we use $U$ to denote the unitary that would have been applied normally, setting a value for `fraction` applies $U^{\\mathtt{fraction}}$ instead.\n",
    "\n",
    "Let's get a fresh pair of qubits to see an example of this."
   ]
  },
  {
   "cell_type": "code",
   "execution_count": 14,
   "metadata": {},
   "outputs": [
    {
     "name": "stdout",
     "output_type": "stream",
     "text": [
      "{'XX': np.float64(-0.009697444746826139), 'XY': np.float64(0.007070090148818858), 'XZ': np.float64(-0.007830711091084767), 'YX': np.float64(0.0041848175105263724), 'YY': np.float64(0.006225386123784655), 'YZ': np.float64(-0.007976855799309079), 'ZX': np.float64(0.017750903718334012), 'ZY': np.float64(-0.011036613039965337), 'ZZ': np.float64(0.9947318267122901)}\n"
     ]
    }
   ],
   "source": [
    "qubits = QuantumGraph(2)\n",
    "\n",
    "print(qubits.get_relationship(0,1))"
   ]
  },
  {
   "cell_type": "markdown",
   "metadata": {},
   "source": [
    "Applying `qubits.set_relationship({'XX':1}, 0,1)` would change the state to get $\\langle X_0 X_1 \\rangle = 1$. But let's add in `fraction=0.5` and see what happens."
   ]
  },
  {
   "cell_type": "code",
   "execution_count": 15,
   "metadata": {},
   "outputs": [
    {
     "name": "stdout",
     "output_type": "stream",
     "text": [
      "{'XX': np.float64(0.7024466387089976), 'XY': np.float64(0.13053046052260384), 'XZ': np.float64(0.020854471305436058), 'YX': np.float64(0.1398609676592603), 'YY': np.float64(-0.6795708260365361), 'YZ': np.float64(0.09393873056087444), 'ZX': np.float64(0.08778585928663582), 'ZY': np.float64(0.09189778597721898), 'ZZ': np.float64(0.9739815421418987)}\n"
     ]
    }
   ],
   "source": [
    "qubits.set_relationship( {'XX':1}, 0,1, fraction=0.5 )\n",
    "\n",
    "print(qubits.get_relationship(0,1))"
   ]
  },
  {
   "cell_type": "markdown",
   "metadata": {},
   "source": [
    "Here the value has increased $1/\\sqrt{2}$, but not all the way to $1$. In some sense, it is half way there.\n",
    "\n",
    "If we were to apply exactly the same quantum gate operation again, we would get all the way to $\\langle X_0 X_1 \\rangle = 1$. However, note that we cannot do this by simply repeating the same command, since this would generate a new gate which rotates halfway between the current initial state and the target state."
   ]
  },
  {
   "cell_type": "code",
   "execution_count": 16,
   "metadata": {},
   "outputs": [
    {
     "name": "stdout",
     "output_type": "stream",
     "text": [
      "{'XX': np.float64(0.8702116882291544), 'XY': np.float64(-0.2512916964891473), 'XZ': np.float64(-0.0011788001778785216), 'YX': np.float64(-0.25205527176609066), 'YY': np.float64(-0.8570031269225948), 'YZ': np.float64(0.14217587788445651), 'ZX': np.float64(0.08220156908061707), 'ZY': np.float64(0.12589037881663723), 'ZZ': np.float64(0.9747841186558841)}\n"
     ]
    }
   ],
   "source": [
    "qubits.set_relationship( {'XX':1}, 0,1, fraction=0.5 )\n",
    "\n",
    "print(qubits.get_relationship(0,1))"
   ]
  },
  {
   "cell_type": "markdown",
   "metadata": {},
   "source": [
    "# Creating Algorithms\n",
    "\n",
    "By thinking of terms of these single- and two-qubit variables, and by manipulating them using the methods supplied, we can create algorithms to solve problems.\n",
    "\n",
    "A concrete example of this can be seen in\n",
    "\n",
    "* [\"A quantum procedure for map generation\", by James R. Wootton](https://arxiv.org/abs/2005.10327)\n",
    "\n",
    "where `quantumgraph` is used to implement a rudimentary AI for a Civilization-like game.\n",
    "\n",
    "Another example is\n",
    "\n",
    "* [\"Determining eigenstates and thermal states on a quantum computer using quantum imaginary time evolution\" by Motta, et al.](https://arxiv.org/abs/1901.07653)\n",
    "\n",
    "which is presents a method for calculating ground states for Hamiltonians of interacting particles. It uses the same basic idea as is implemented in `quantumgraph`, but with a $p$-local tomography in general (for finite $p$) and with its own custom methods to set the variables."
   ]
  },
  {
   "cell_type": "code",
   "execution_count": null,
   "metadata": {},
   "outputs": [],
   "source": []
  }
 ],
 "metadata": {
  "kernelspec": {
   "display_name": ".venv",
   "language": "python",
   "name": "python3"
  },
  "language_info": {
   "codemirror_mode": {
    "name": "ipython",
    "version": 3
   },
   "file_extension": ".py",
   "mimetype": "text/x-python",
   "name": "python",
   "nbconvert_exporter": "python",
   "pygments_lexer": "ipython3",
   "version": "3.11.9"
  }
 },
 "nbformat": 4,
 "nbformat_minor": 4
}
