{
 "cells": [
  {
   "cell_type": "markdown",
   "metadata": {},
   "source": [
    "# Using QuantumGraph\n",
    "\n",
    "The `quantumgraph` package is designed to help build quantum software using an approach that is different from the one you'll learn in textbooks. Here we'll look into the basics of how it works."
   ]
  },
  {
   "cell_type": "markdown",
   "metadata": {},
   "source": [
    "## Setting up\n",
    "\n",
    "The first step is to install `quantumgraph`. You'll also need to install the `pairwise_tomography` package, which is a vital dependency.\n",
    "\n",
    "This can be done by pip installing directly from the repositories. This is usually done with the command line, but you can do it in Jupyter notebooks too. The syntax for Jupyter notebooks is as follows."
   ]
  },
  {
   "cell_type": "code",
   "execution_count": 2,
   "metadata": {
    "scrolled": false
   },
   "outputs": [
    {
     "name": "stdout",
     "output_type": "stream",
     "text": [
      "Collecting git+https://github.com/if-quantum/pairwise-tomography.git\n",
      "  Cloning https://github.com/if-quantum/pairwise-tomography.git to c:\\users\\owais\\appdata\\local\\temp\\pip-req-build-pr1376__\n",
      "  Resolved https://github.com/if-quantum/pairwise-tomography.git to commit 508318daaf943445d92aedd82330ebe45823d400\n",
      "  Installing build dependencies: started\n",
      "  Installing build dependencies: finished with status 'done'\n",
      "  Getting requirements to build wheel: started\n",
      "  Getting requirements to build wheel: finished with status 'done'\n",
      "  Preparing metadata (pyproject.toml): started\n",
      "  Preparing metadata (pyproject.toml): finished with status 'done'\n",
      "Requirement already satisfied: qiskit>=0.19 in d:\\phd\\unitaryhack25\\quantumgraph\\.venv\\lib\\site-packages (from pairwise-tomography==0.0.2) (2.0.2)\n",
      "Requirement already satisfied: scipy in d:\\phd\\unitaryhack25\\quantumgraph\\.venv\\lib\\site-packages (from pairwise-tomography==0.0.2) (1.15.3)\n",
      "Requirement already satisfied: matplotlib in d:\\phd\\unitaryhack25\\quantumgraph\\.venv\\lib\\site-packages (from pairwise-tomography==0.0.2) (3.10.3)\n",
      "Requirement already satisfied: networkx in d:\\phd\\unitaryhack25\\quantumgraph\\.venv\\lib\\site-packages (from pairwise-tomography==0.0.2) (3.5)\n",
      "Requirement already satisfied: rustworkx>=0.15.0 in d:\\phd\\unitaryhack25\\quantumgraph\\.venv\\lib\\site-packages (from qiskit>=0.19->pairwise-tomography==0.0.2) (0.16.0)\n",
      "Requirement already satisfied: numpy<3,>=1.17 in d:\\phd\\unitaryhack25\\quantumgraph\\.venv\\lib\\site-packages (from qiskit>=0.19->pairwise-tomography==0.0.2) (2.2.6)\n",
      "Requirement already satisfied: sympy>=1.3 in d:\\phd\\unitaryhack25\\quantumgraph\\.venv\\lib\\site-packages (from qiskit>=0.19->pairwise-tomography==0.0.2) (1.14.0)\n",
      "Requirement already satisfied: dill>=0.3 in d:\\phd\\unitaryhack25\\quantumgraph\\.venv\\lib\\site-packages (from qiskit>=0.19->pairwise-tomography==0.0.2) (0.4.0)\n",
      "Requirement already satisfied: python-dateutil>=2.8.0 in d:\\phd\\unitaryhack25\\quantumgraph\\.venv\\lib\\site-packages (from qiskit>=0.19->pairwise-tomography==0.0.2) (2.9.0.post0)\n",
      "Requirement already satisfied: stevedore>=3.0.0 in d:\\phd\\unitaryhack25\\quantumgraph\\.venv\\lib\\site-packages (from qiskit>=0.19->pairwise-tomography==0.0.2) (5.4.1)\n",
      "Requirement already satisfied: typing-extensions in d:\\phd\\unitaryhack25\\quantumgraph\\.venv\\lib\\site-packages (from qiskit>=0.19->pairwise-tomography==0.0.2) (4.13.2)\n",
      "Requirement already satisfied: symengine<0.14,>=0.11 in d:\\phd\\unitaryhack25\\quantumgraph\\.venv\\lib\\site-packages (from qiskit>=0.19->pairwise-tomography==0.0.2) (0.13.0)\n",
      "Requirement already satisfied: six>=1.5 in d:\\phd\\unitaryhack25\\quantumgraph\\.venv\\lib\\site-packages (from python-dateutil>=2.8.0->qiskit>=0.19->pairwise-tomography==0.0.2) (1.17.0)\n",
      "Requirement already satisfied: pbr>=2.0.0 in d:\\phd\\unitaryhack25\\quantumgraph\\.venv\\lib\\site-packages (from stevedore>=3.0.0->qiskit>=0.19->pairwise-tomography==0.0.2) (6.1.1)\n",
      "Requirement already satisfied: setuptools in d:\\phd\\unitaryhack25\\quantumgraph\\.venv\\lib\\site-packages (from pbr>=2.0.0->stevedore>=3.0.0->qiskit>=0.19->pairwise-tomography==0.0.2) (65.5.0)\n",
      "Requirement already satisfied: mpmath<1.4,>=1.1.0 in d:\\phd\\unitaryhack25\\quantumgraph\\.venv\\lib\\site-packages (from sympy>=1.3->qiskit>=0.19->pairwise-tomography==0.0.2) (1.3.0)\n",
      "Requirement already satisfied: contourpy>=1.0.1 in d:\\phd\\unitaryhack25\\quantumgraph\\.venv\\lib\\site-packages (from matplotlib->pairwise-tomography==0.0.2) (1.3.2)\n",
      "Requirement already satisfied: cycler>=0.10 in d:\\phd\\unitaryhack25\\quantumgraph\\.venv\\lib\\site-packages (from matplotlib->pairwise-tomography==0.0.2) (0.12.1)\n",
      "Requirement already satisfied: fonttools>=4.22.0 in d:\\phd\\unitaryhack25\\quantumgraph\\.venv\\lib\\site-packages (from matplotlib->pairwise-tomography==0.0.2) (4.58.1)\n",
      "Requirement already satisfied: kiwisolver>=1.3.1 in d:\\phd\\unitaryhack25\\quantumgraph\\.venv\\lib\\site-packages (from matplotlib->pairwise-tomography==0.0.2) (1.4.8)\n",
      "Requirement already satisfied: packaging>=20.0 in d:\\phd\\unitaryhack25\\quantumgraph\\.venv\\lib\\site-packages (from matplotlib->pairwise-tomography==0.0.2) (25.0)\n",
      "Requirement already satisfied: pillow>=8 in d:\\phd\\unitaryhack25\\quantumgraph\\.venv\\lib\\site-packages (from matplotlib->pairwise-tomography==0.0.2) (11.2.1)\n",
      "Requirement already satisfied: pyparsing>=2.3.1 in d:\\phd\\unitaryhack25\\quantumgraph\\.venv\\lib\\site-packages (from matplotlib->pairwise-tomography==0.0.2) (3.2.3)\n"
     ]
    },
    {
     "name": "stderr",
     "output_type": "stream",
     "text": [
      "  Running command git clone --filter=blob:none --quiet https://github.com/if-quantum/pairwise-tomography.git 'C:\\Users\\Owais\\AppData\\Local\\Temp\\pip-req-build-pr1376__'\n"
     ]
    },
    {
     "name": "stdout",
     "output_type": "stream",
     "text": [
      "Collecting git+https://github.com/qiskit-community/QuantumGraph.git\n",
      "  Cloning https://github.com/qiskit-community/QuantumGraph.git to c:\\users\\owais\\appdata\\local\\temp\\pip-req-build-zfhbrv54\n",
      "  Resolved https://github.com/qiskit-community/QuantumGraph.git to commit 3c99ab256a3c5c6041399b3e1d6fdd2375e8ba96\n",
      "  Installing build dependencies: started\n",
      "  Installing build dependencies: finished with status 'done'\n",
      "  Getting requirements to build wheel: started\n",
      "  Getting requirements to build wheel: finished with status 'done'\n",
      "  Preparing metadata (pyproject.toml): started\n",
      "  Preparing metadata (pyproject.toml): finished with status 'done'\n",
      "Requirement already satisfied: qiskit in d:\\phd\\unitaryhack25\\quantumgraph\\.venv\\lib\\site-packages (from quantumgraph==0.0.1) (2.0.2)\n",
      "Requirement already satisfied: scipy in d:\\phd\\unitaryhack25\\quantumgraph\\.venv\\lib\\site-packages (from quantumgraph==0.0.1) (1.15.3)\n",
      "Requirement already satisfied: pairwise_tomography in d:\\phd\\unitaryhack25\\quantumgraph\\.venv\\lib\\site-packages (from quantumgraph==0.0.1) (0.0.2)\n",
      "Requirement already satisfied: matplotlib in d:\\phd\\unitaryhack25\\quantumgraph\\.venv\\lib\\site-packages (from pairwise_tomography->quantumgraph==0.0.1) (3.10.3)\n",
      "Requirement already satisfied: networkx in d:\\phd\\unitaryhack25\\quantumgraph\\.venv\\lib\\site-packages (from pairwise_tomography->quantumgraph==0.0.1) (3.5)\n",
      "Requirement already satisfied: rustworkx>=0.15.0 in d:\\phd\\unitaryhack25\\quantumgraph\\.venv\\lib\\site-packages (from qiskit->quantumgraph==0.0.1) (0.16.0)\n",
      "Requirement already satisfied: numpy<3,>=1.17 in d:\\phd\\unitaryhack25\\quantumgraph\\.venv\\lib\\site-packages (from qiskit->quantumgraph==0.0.1) (2.2.6)\n",
      "Requirement already satisfied: sympy>=1.3 in d:\\phd\\unitaryhack25\\quantumgraph\\.venv\\lib\\site-packages (from qiskit->quantumgraph==0.0.1) (1.14.0)\n",
      "Requirement already satisfied: dill>=0.3 in d:\\phd\\unitaryhack25\\quantumgraph\\.venv\\lib\\site-packages (from qiskit->quantumgraph==0.0.1) (0.4.0)\n",
      "Requirement already satisfied: python-dateutil>=2.8.0 in d:\\phd\\unitaryhack25\\quantumgraph\\.venv\\lib\\site-packages (from qiskit->quantumgraph==0.0.1) (2.9.0.post0)\n",
      "Requirement already satisfied: stevedore>=3.0.0 in d:\\phd\\unitaryhack25\\quantumgraph\\.venv\\lib\\site-packages (from qiskit->quantumgraph==0.0.1) (5.4.1)\n",
      "Requirement already satisfied: typing-extensions in d:\\phd\\unitaryhack25\\quantumgraph\\.venv\\lib\\site-packages (from qiskit->quantumgraph==0.0.1) (4.13.2)\n",
      "Requirement already satisfied: symengine<0.14,>=0.11 in d:\\phd\\unitaryhack25\\quantumgraph\\.venv\\lib\\site-packages (from qiskit->quantumgraph==0.0.1) (0.13.0)\n",
      "Requirement already satisfied: six>=1.5 in d:\\phd\\unitaryhack25\\quantumgraph\\.venv\\lib\\site-packages (from python-dateutil>=2.8.0->qiskit->quantumgraph==0.0.1) (1.17.0)\n",
      "Requirement already satisfied: pbr>=2.0.0 in d:\\phd\\unitaryhack25\\quantumgraph\\.venv\\lib\\site-packages (from stevedore>=3.0.0->qiskit->quantumgraph==0.0.1) (6.1.1)\n",
      "Requirement already satisfied: setuptools in d:\\phd\\unitaryhack25\\quantumgraph\\.venv\\lib\\site-packages (from pbr>=2.0.0->stevedore>=3.0.0->qiskit->quantumgraph==0.0.1) (65.5.0)\n",
      "Requirement already satisfied: mpmath<1.4,>=1.1.0 in d:\\phd\\unitaryhack25\\quantumgraph\\.venv\\lib\\site-packages (from sympy>=1.3->qiskit->quantumgraph==0.0.1) (1.3.0)\n",
      "Requirement already satisfied: contourpy>=1.0.1 in d:\\phd\\unitaryhack25\\quantumgraph\\.venv\\lib\\site-packages (from matplotlib->pairwise_tomography->quantumgraph==0.0.1) (1.3.2)\n",
      "Requirement already satisfied: cycler>=0.10 in d:\\phd\\unitaryhack25\\quantumgraph\\.venv\\lib\\site-packages (from matplotlib->pairwise_tomography->quantumgraph==0.0.1) (0.12.1)\n",
      "Requirement already satisfied: fonttools>=4.22.0 in d:\\phd\\unitaryhack25\\quantumgraph\\.venv\\lib\\site-packages (from matplotlib->pairwise_tomography->quantumgraph==0.0.1) (4.58.1)\n",
      "Requirement already satisfied: kiwisolver>=1.3.1 in d:\\phd\\unitaryhack25\\quantumgraph\\.venv\\lib\\site-packages (from matplotlib->pairwise_tomography->quantumgraph==0.0.1) (1.4.8)\n",
      "Requirement already satisfied: packaging>=20.0 in d:\\phd\\unitaryhack25\\quantumgraph\\.venv\\lib\\site-packages (from matplotlib->pairwise_tomography->quantumgraph==0.0.1) (25.0)\n",
      "Requirement already satisfied: pillow>=8 in d:\\phd\\unitaryhack25\\quantumgraph\\.venv\\lib\\site-packages (from matplotlib->pairwise_tomography->quantumgraph==0.0.1) (11.2.1)\n",
      "Requirement already satisfied: pyparsing>=2.3.1 in d:\\phd\\unitaryhack25\\quantumgraph\\.venv\\lib\\site-packages (from matplotlib->pairwise_tomography->quantumgraph==0.0.1) (3.2.3)\n"
     ]
    },
    {
     "name": "stderr",
     "output_type": "stream",
     "text": [
      "  Running command git clone --filter=blob:none --quiet https://github.com/qiskit-community/QuantumGraph.git 'C:\\Users\\Owais\\AppData\\Local\\Temp\\pip-req-build-zfhbrv54'\n"
     ]
    }
   ],
   "source": [
    "!pip install git+https://github.com/if-quantum/pairwise-tomography.git\n",
    "!pip install git+https://github.com/qiskit-community/QuantumGraph.git"
   ]
  },
  {
   "cell_type": "code",
   "execution_count": 2,
   "metadata": {},
   "outputs": [
    {
     "name": "stdout",
     "output_type": "stream",
     "text": [
      "2.0.2\n"
     ]
    }
   ],
   "source": [
    "import qiskit\n",
    "print(qiskit.__version__)"
   ]
  },
  {
   "cell_type": "markdown",
   "metadata": {},
   "source": [
    "With these things installed, you will need to import the class in which all the magic happens."
   ]
  },
  {
   "cell_type": "code",
   "execution_count": 3,
   "metadata": {},
   "outputs": [
    {
     "name": "stdout",
     "output_type": "stream",
     "text": [
      "Name: qiskit\n",
      "Version: 2.0.2\n",
      "Summary: An open-source SDK for working with quantum computers at the level of extended quantum circuits, operators, and primitives.\n",
      "Home-page: https://www.ibm.com/quantum/qiskit\n",
      "Author: \n",
      "Author-email: Qiskit Development Team <qiskit@us.ibm.com>\n",
      "License: Apache 2.0\n",
      "Location: d:\\PHD\\unitaryhack25\\QuantumGraph\\.venv\\Lib\\site-packages\n",
      "Requires: dill, numpy, python-dateutil, rustworkx, scipy, stevedore, symengine, sympy, typing-extensions\n",
      "Required-by: pairwise-tomography, qiskit-aer, qiskit-experiments, qiskit-ibm-experiment, qiskit-ibm-runtime, quantumgraph\n",
      "Note: you may need to restart the kernel to use updated packages.\n"
     ]
    }
   ],
   "source": [
    "%pip show qiskit"
   ]
  },
  {
   "cell_type": "code",
   "execution_count": 4,
   "metadata": {},
   "outputs": [
    {
     "name": "stdout",
     "output_type": "stream",
     "text": [
      "An IBMQ account could not be loaded\n"
     ]
    }
   ],
   "source": [
    "from quantumgraph import QuantumGraph"
   ]
  },
  {
   "cell_type": "markdown",
   "metadata": {},
   "source": [
    "## Initializing the variables\n",
    "\n",
    "Computing is all about encoding information in variables, and then manipulating these variables. So to start we need to understand what variables we will use and how to set them up.\n",
    "\n",
    "The variables in `QuantumGraph` are associated with a set of qubits. We begin by creating a `QuantumGraph` object to hold our qubits. In the example below, we do it for a set of four qubits."
   ]
  },
  {
   "cell_type": "code",
   "execution_count": 5,
   "metadata": {},
   "outputs": [],
   "source": [
    "n = 4\n",
    "qubits = QuantumGraph(n)"
   ]
  },
  {
   "cell_type": "markdown",
   "metadata": {},
   "source": [
    "For each qubit we have three variables, $\\langle X \\rangle$ , $\\langle Y \\rangle$ and $\\langle Z \\rangle$. These are all numbers in the range between $+1$ and $-1$, and they satisfy\n",
    "\n",
    "$$\n",
    "\\langle X \\rangle^2 + \\langle Y \\rangle^2 + \\langle Z \\rangle^2 \\leq 1.\n",
    "$$\n",
    "\n",
    "These values for a qubit `j` can be accessed as a dictionary using the `get_bloch()` method. Here it is in use."
   ]
  },
  {
   "cell_type": "code",
   "execution_count": 6,
   "metadata": {},
   "outputs": [
    {
     "name": "stdout",
     "output_type": "stream",
     "text": [
      "Single qubit variables for qubit 0:\n",
      "{'X': np.float64(0.0006025735764436139), 'Y': np.float64(-0.0011505044269402606), 'Z': np.float64(0.9927973446609704)}\n",
      "\n",
      "Single qubit variables for qubit 1:\n",
      "{'X': np.float64(-0.004618756461701552), 'Y': np.float64(-0.0008118471792578995), 'Z': np.float64(0.9934856371440373)}\n",
      "\n",
      "Single qubit variables for qubit 2:\n",
      "{'X': np.float64(-0.00020569551973642435), 'Y': np.float64(-0.001999006152782817), 'Z': np.float64(0.9934795914370464)}\n",
      "\n",
      "Single qubit variables for qubit 3:\n",
      "{'X': np.float64(0.003873465255041844), 'Y': np.float64(0.0013445244144559656), 'Z': np.float64(0.9918110637023543)}\n",
      "\n"
     ]
    }
   ],
   "source": [
    "for j in range(n):\n",
    "    print('Single qubit variables for qubit ' + str(j) + ':')\n",
    "    print(qubits.get_bloch(j))\n",
    "    print()"
   ]
  },
  {
   "cell_type": "markdown",
   "metadata": {},
   "source": [
    "For each possible pair of qubits $j$ and $k$, we have a whole bunch of variables: $\\langle X_j X_k \\rangle$, $\\langle X_j Y_k \\rangle$, $\\langle X_j Z_k \\rangle$, $\\langle Y_j X_k \\rangle$, $\\langle Y_j Y_k \\rangle$, etc. For a fairly in-depth explation of these, see [this paper](https://arxiv.org/abs/2005.10327).\n",
    "\n",
    "For now it is sufficient to note these variables are initially completely dependent on the single qubit variables. For example\n",
    "\n",
    "$$\n",
    "\\langle X_j Y_k \\rangle = \\langle X_j \\rangle \\langle Y_k \\rangle.\n",
    "$$\n",
    "\n",
    "They can begin to do different things as a computation proceeds, but they'll always satisfy\n",
    "\n",
    "$$\n",
    "\\langle X_j Y_k \\rangle^2 \\geq \\left( \\langle X_j \\rangle \\langle Y_k \\rangle \\right)^2\n",
    "$$\n",
    "\n",
    "These values for a pair of qubits `j` and `k` can be similarly accessed using the `get_relationship()` method."
   ]
  },
  {
   "cell_type": "code",
   "execution_count": 7,
   "metadata": {},
   "outputs": [
    {
     "name": "stdout",
     "output_type": "stream",
     "text": [
      "Two qubit variables for qubits 0 and 1:\n",
      "{'XX': np.float64(-0.003939035998178984), 'XY': np.float64(-0.0009458187515836877), 'XZ': np.float64(0.004517581074775155), 'YX': np.float64(0.004612612656497656), 'YY': np.float64(0.002990650843077742), 'YZ': np.float64(-0.00014461957082793203), 'ZX': np.float64(-0.0009871439425530749), 'ZY': np.float64(-0.0033359638274537613), 'ZZ': np.float64(0.989245016533393)}\n",
      "\n",
      "Two qubit variables for qubits 0 and 2:\n",
      "{'XX': np.float64(-0.00030699632139860307), 'XY': np.float64(0.0031211045881062984), 'XZ': np.float64(0.003396428000940895), 'YX': np.float64(0.004446774272808379), 'YY': np.float64(-0.0012645700944422407), 'YZ': np.float64(0.0021814772397791044), 'ZX': np.float64(-0.006270518083523552), 'ZY': np.float64(-0.002994541618120936), 'ZZ': np.float64(0.9921990772449745)}\n",
      "\n",
      "Two qubit variables for qubits 0 and 3:\n",
      "{'XX': np.float64(-0.001267803623351009), 'XY': np.float64(0.0009590596990885897), 'XZ': np.float64(0.0021894910066761033), 'YX': np.float64(-0.0020539067100437333), 'YY': np.float64(0.0054977179635712905), 'YZ': np.float64(0.0016907368807161113), 'ZX': np.float64(-0.000534306112944789), 'ZY': np.float64(0.000558543428605554), 'ZZ': np.float64(0.989394564998692)}\n",
      "\n",
      "Two qubit variables for qubits 1 and 2:\n",
      "{'XX': np.float64(-0.004563614967196539), 'XY': np.float64(-0.005443819416344612), 'XZ': np.float64(-0.00042022717990397), 'YX': np.float64(-0.005014321542927747), 'YY': np.float64(0.004244750427030932), 'YZ': np.float64(-0.0012518051778653621), 'ZX': np.float64(-0.005214745570460439), 'ZY': np.float64(5.857567351746973e-05), 'ZZ': np.float64(0.9903818831045277)}\n",
      "\n",
      "Two qubit variables for qubits 1 and 3:\n",
      "{'XX': np.float64(-0.003242350332053087), 'XY': np.float64(0.004184590083142386), 'XZ': np.float64(0.0008729491215194389), 'YX': np.float64(0.0019014297604956136), 'YY': np.float64(0.0005387172201931018), 'YZ': np.float64(-0.002415796328618103), 'ZX': np.float64(0.0007862686673743725), 'ZY': np.float64(-0.00042890688379040203), 'ZZ': np.float64(0.9901978949003862)}\n",
      "\n",
      "Two qubit variables for qubits 2 and 3:\n",
      "{'XX': np.float64(-0.008483852314969405), 'XY': np.float64(0.0037657790497824637), 'XZ': np.float64(-0.006548351677057734), 'YX': np.float64(0.003385637744048406), 'YY': np.float64(0.005216587385535142), 'YZ': np.float64(-0.0001834733406294183), 'ZX': np.float64(0.0007440538717899321), 'ZY': np.float64(0.0005336357984263464), 'ZZ': np.float64(0.9914471745215112)}\n",
      "\n"
     ]
    }
   ],
   "source": [
    "for j in range(n-1):\n",
    "    for k in range(j+1,n):\n",
    "        print('Two qubit variables for qubits ' + str(j) + ' and '  + str(k) + ':')\n",
    "        print(qubits.get_relationship(j,k))\n",
    "        print()"
   ]
  },
  {
   "cell_type": "markdown",
   "metadata": {},
   "source": [
    "The results we see above show us that we are in the standard $|000\\rangle$ initial state, for which\n",
    "\n",
    "$$\\langle Z_j \\rangle = \\langle Z_j Z_k \\rangle = 1 \\,\\,\\,\\, \\forall j,k$$\n",
    "\n",
    "All variables involving $X$ and $Y$ are zero. Any deviations from this seen above are due to the fact that the expectation values are statistically calculated."
   ]
  },
  {
   "cell_type": "markdown",
   "metadata": {},
   "source": [
    "## Manipulating qubits\n",
    "\n",
    "The qubits can be manipulated using normal quantum gates. For this we can directly manipulate the quantum circuit for the qubits, which can be accessed through the attribute `qc`. Since `QuantumGraph` is built on Qiskit, this circuit is a Qiskit `QuantumCircuit` object."
   ]
  },
  {
   "cell_type": "code",
   "execution_count": 8,
   "metadata": {},
   "outputs": [
    {
     "data": {
      "image/png": "[encoded data removed]",
      "text/plain": [
       "<Figure size 203.885x367.889 with 1 Axes>"
      ]
     },
     "execution_count": 8,
     "metadata": {},
     "output_type": "execute_result"
    }
   ],
   "source": [
    "qubits.qc.h(0)\n",
    "qubits.qc.draw(output='mpl')"
   ]
  },
  {
   "cell_type": "markdown",
   "metadata": {},
   "source": [
    "Here we applied an `h` gate to qubit 0. However, if we look at the state of this qubit we will find that it has not changed."
   ]
  },
  {
   "cell_type": "code",
   "execution_count": 9,
   "metadata": {},
   "outputs": [
    {
     "data": {
      "text/plain": [
       "{'X': np.float64(0.0006025735764436139),\n",
       " 'Y': np.float64(-0.0011505044269402606),\n",
       " 'Z': np.float64(0.9927973446609704)}"
      ]
     },
     "execution_count": 9,
     "metadata": {},
     "output_type": "execute_result"
    }
   ],
   "source": [
    "qubits.get_bloch(0)"
   ]
  },
  {
   "cell_type": "markdown",
   "metadata": {},
   "source": [
    "This is because we actually have to run the circuit in order to update the tomography. This is done using the `update_tomography()` method."
   ]
  },
  {
   "cell_type": "code",
   "execution_count": 10,
   "metadata": {},
   "outputs": [
    {
     "name": "stdout",
     "output_type": "stream",
     "text": [
      "{'X': np.float64(0.9929511774907688), 'Y': np.float64(0.005192321283852337), 'Z': np.float64(0.0005059833734866249)}\n"
     ]
    }
   ],
   "source": [
    "qubits.update_tomography()\n",
    "print(qubits.get_bloch(0))"
   ]
  },
  {
   "cell_type": "markdown",
   "metadata": {},
   "source": [
    "Now we have $\\langle X \\rangle = 1$ for qubit 0. If you know what an `h` does, this shouldn't come as a surprise (if you didn't know, then now do!)."
   ]
  },
  {
   "cell_type": "markdown",
   "metadata": {},
   "source": [
    "Another way to manipulate the qubits, which is unique to this method, is to give target values for the variables. This is done using the method `set_bloch()`.\n",
    "\n",
    "For example, to set the state of qubit 1 to $\\langle X \\rangle = 1$ we use"
   ]
  },
  {
   "cell_type": "code",
   "execution_count": 11,
   "metadata": {},
   "outputs": [
    {
     "name": "stdout",
     "output_type": "stream",
     "text": [
      "set_bloch called for qubit 1 with target_expect: {'X': 1}, fraction: 1, update: True\n",
      "Current Bloch vector for qubit 1: {'X': np.float64(0.0002341672142950361), 'Y': np.float64(-0.0010189551551530343), 'Z': np.float64(0.995057535064751)}\n",
      "Target Bloch vector for qubit 1: {'X': 1, 'Y': 0, 'Z': 0}\n",
      "Computed unitary matrix U for qubit 1:\n",
      "[[ 0.70718989-0.00036204j -0.70702348+0.00036204j]\n",
      " [ 0.70702348+0.00036204j  0.70718989+0.00036204j]]\n",
      "Fractional unitary matrix U for qubit 1 (fraction=1):\n",
      "[[ 0.70718989-0.00036204j -0.70702348+0.00036204j]\n",
      " [ 0.70702348+0.00036204j  0.70718989+0.00036204j]]\n",
      "Euler angles for qubit 1: theta=1.5705609965964566, phi=0.001024015961925973, lambda=-1.2049095084794726e-07\n",
      "Tomography updated after applying set_bloch.\n"
     ]
    }
   ],
   "source": [
    "qubits.set_bloch({'X':1},1)"
   ]
  },
  {
   "cell_type": "markdown",
   "metadata": {},
   "source": [
    "This automatically updates the tomography (unless the keyword `update=False` is added), so we can already verify that it has the correct effect."
   ]
  },
  {
   "cell_type": "code",
   "execution_count": 12,
   "metadata": {},
   "outputs": [
    {
     "name": "stdout",
     "output_type": "stream",
     "text": [
      "{'X': np.float64(0.992172293611715), 'Y': np.float64(0.00677210170006338), 'Z': np.float64(-0.0044818515020210725)}\n"
     ]
    }
   ],
   "source": [
    "print(qubits.get_bloch(1))"
   ]
  },
  {
   "cell_type": "markdown",
   "metadata": {},
   "source": [
    "The effect was acheived by considering the initial and target tomography, and finding a unitary to get as close to the target as possible."
   ]
  },
  {
   "cell_type": "code",
   "execution_count": 13,
   "metadata": {},
   "outputs": [
    {
     "data": {
      "image/png": "[encoded data removed]",
      "text/plain": [
       "<Figure size 371.107x367.889 with 1 Axes>"
      ]
     },
     "execution_count": 13,
     "metadata": {},
     "output_type": "execute_result"
    }
   ],
   "source": [
    "qubits.qc.draw(output='mpl')"
   ]
  },
  {
   "cell_type": "markdown",
   "metadata": {},
   "source": [
    "It is not as pretty as the off-the-shelf Hadamard gate, but it has the same effect.\n",
    "\n",
    "The target state for the `set_bloch()` method can include multiple values. For example\n"
   ]
  },
  {
   "cell_type": "code",
   "execution_count": 14,
   "metadata": {},
   "outputs": [
    {
     "name": "stdout",
     "output_type": "stream",
     "text": [
      "set_bloch called for qubit 2 with target_expect: {'X': 1, 'Z': 1}, fraction: 1, update: True\n",
      "Current Bloch vector for qubit 2: {'X': np.float64(-0.004958697047672875), 'Y': np.float64(-0.0064224987028470935), 'Z': np.float64(0.9939656396274075)}\n",
      "Target Bloch vector for qubit 2: {'X': 1, 'Z': 1, 'Y': 0}\n",
      "Computed unitary matrix U for qubit 2:\n",
      "[[ 0.9229173 -0.00123632j -0.38498471+0.00298474j]\n",
      " [ 0.38498471+0.00298474j  0.9229173 +0.00123632j]]\n",
      "Fractional unitary matrix U for qubit 2 (fraction=1):\n",
      "[[ 0.9229173 -0.00123632j -0.38498471+0.00298474j]\n",
      " [ 0.38498471+0.00298474j  0.9229173 +0.00123632j]]\n",
      "Euler angles for qubit 2: theta=0.7904075900817402, phi=0.009092314746179175, lambda=-0.006413156184494456\n",
      "Tomography updated after applying set_bloch.\n",
      "{'X': np.float64(0.7069964708534557), 'Y': np.float64(0.0019671466752654507), 'Z': np.float64(0.6963946173672532)}\n"
     ]
    }
   ],
   "source": [
    "qubits.set_bloch({'X':1, 'Z':1},2)\n",
    "\n",
    "print(qubits.get_bloch(2))"
   ]
  },
  {
   "cell_type": "markdown",
   "metadata": {},
   "source": [
    "Note that it is not actually possible to set both $\\langle X \\rangle$ and $\\langle Z \\rangle$ of a qubit to $1$, so `set_bloch` just does the best that is possible. For all single qubit values that do not appear in the target state, it is assumed that the target is to set them to zero. So the target used here is equivalent to `{'X':1, 'Y':0, 'Z':1,}`.\n",
    "\n",
    "\n",
    "We can perform similar manipulations on pairs of qubits using the `set_relationship` method. Here we do so for qubits 0 and 1."
   ]
  },
  {
   "cell_type": "code",
   "execution_count": 15,
   "metadata": {},
   "outputs": [
    {
     "name": "stdout",
     "output_type": "stream",
     "text": [
      "{'XX': np.float64(0.003145451418871247), 'XY': np.float64(0.0006874199227699026), 'XZ': np.float64(0.0020066621767575485), 'YX': np.float64(-0.0009779253696944193), 'YY': np.float64(0.0026501504202583715), 'YZ': np.float64(-0.0015666989039203516), 'ZX': np.float64(0.7071132146973049), 'ZY': np.float64(0.007063433183973365), 'ZZ': np.float64(0.6973738376604842)}\n"
     ]
    }
   ],
   "source": [
    "qubits.set_relationship( {'ZZ':1}, 0,1 )\n",
    "\n",
    "print(qubits.get_relationship(0,1))"
   ]
  },
  {
   "cell_type": "markdown",
   "metadata": {},
   "source": [
    "Unlike `set_bloch`, it is not assumed that values not present in the target should be set to zero. Instead, it is assumed that they should be changed as little as possible.\n",
    "\n",
    "In the example above, the target is to set $\\langle Z_0 Z_1 \\rangle = 1$. Note that the state already has $\\langle X_0 \\rangle = \\langle X_0 \\rangle = 1$, and therefore $\\langle X_0 X_1 \\rangle = 1$, from the single qubit manipulations we have already performed. Since $Z_0 Z_1$ and $X_0 X_1$ commute, it is possible to satisfy the target condition on $\\langle Z_0 Z_1 \\rangle$ while maintaining the value of $\\langle X_0 X_1 \\rangle$. It is because of this that we end up with a state with $\\langle X_0 X_1 \\rangle = \\langle Z_0 Z_1 \\rangle = 1$.\n",
    "\n",
    "We can also use `set_relationship()` with multiple values in the target. However, unlike for `set_bloch()`, all the corresponding Paulis must commute to get a well defined effect. For example, for qubits 2 and 3."
   ]
  },
  {
   "cell_type": "code",
   "execution_count": 16,
   "metadata": {},
   "outputs": [
    {
     "name": "stdout",
     "output_type": "stream",
     "text": [
      "{'XX': np.float64(0.9927510023922196), 'XY': np.float64(-0.007309571126135573), 'XZ': np.float64(-0.004904827215470234), 'YX': np.float64(-0.007178186706180194), 'YY': np.float64(-0.9921170353635022), 'YZ': np.float64(-0.00039775710303125377), 'ZX': np.float64(0.003126005682842346), 'ZY': np.float64(-0.0021151832800480495), 'ZZ': np.float64(0.9932931617074119)}\n"
     ]
    }
   ],
   "source": [
    "qubits.set_relationship( {'XZ':1,'ZX':1}, 2,3 )\n",
    "\n",
    "print(qubits.get_relationship(2,3))"
   ]
  },
  {
   "cell_type": "markdown",
   "metadata": {},
   "source": [
    "Both `set_bloch` and `set_relationship` also have a `fraction` keyword argument. If we use $U$ to denote the unitary that would have been applied normally, setting a value for `fraction` applies $U^{\\mathtt{fraction}}$ instead.\n",
    "\n",
    "Let's get a fresh pair of qubits to see an example of this."
   ]
  },
  {
   "cell_type": "code",
   "execution_count": 17,
   "metadata": {},
   "outputs": [
    {
     "name": "stdout",
     "output_type": "stream",
     "text": [
      "{'XX': np.float64(-0.014314376242673869), 'XY': np.float64(-0.006035057195870193), 'XZ': np.float64(-0.003206747918043937), 'YX': np.float64(-0.009805302755446535), 'YY': np.float64(0.010753351162594347), 'YZ': np.float64(0.0037032628208788507), 'ZX': np.float64(0.00033651282434903735), 'ZY': np.float64(-0.015240925959355306), 'ZZ': np.float64(0.9947551018201496)}\n"
     ]
    }
   ],
   "source": [
    "qubits = QuantumGraph(2)\n",
    "\n",
    "print(qubits.get_relationship(0,1))"
   ]
  },
  {
   "cell_type": "markdown",
   "metadata": {},
   "source": [
    "Applying `qubits.set_relationship({'XX':1}, 0,1)` would change the state to get $\\langle X_0 X_1 \\rangle = 1$. But let's add in `fraction=0.5` and see what happens."
   ]
  },
  {
   "cell_type": "code",
   "execution_count": 18,
   "metadata": {},
   "outputs": [
    {
     "name": "stdout",
     "output_type": "stream",
     "text": [
      "{'XX': np.float64(0.6983151593594614), 'XY': np.float64(0.042135315474121075), 'XZ': np.float64(0.016749440945259323), 'YX': np.float64(0.037932687046137926), 'YY': np.float64(-0.705498719891904), 'YZ': np.float64(0.038705451604548455), 'ZX': np.float64(-0.04306643335885824), 'ZY': np.float64(-0.0397260709447838), 'ZZ': np.float64(0.9913921297011092)}\n"
     ]
    }
   ],
   "source": [
    "qubits.set_relationship( {'XX':1}, 0,1, fraction=0.5 )\n",
    "\n",
    "print(qubits.get_relationship(0,1))"
   ]
  },
  {
   "cell_type": "markdown",
   "metadata": {},
   "source": [
    "Here the value has increased $1/\\sqrt{2}$, but not all the way to $1$. In some sense, it is half way there.\n",
    "\n",
    "If we were to apply exactly the same quantum gate operation again, we would get all the way to $\\langle X_0 X_1 \\rangle = 1$. However, note that we cannot do this by simply repeating the same command, since this would generate a new gate which rotates halfway between the current initial state and the target state."
   ]
  },
  {
   "cell_type": "code",
   "execution_count": 19,
   "metadata": {},
   "outputs": [
    {
     "name": "stdout",
     "output_type": "stream",
     "text": [
      "{'XX': np.float64(0.9157437784429838), 'XY': np.float64(0.05296763833845636), 'XZ': np.float64(0.06851792505077293), 'YX': np.float64(0.05557398501973124), 'YY': np.float64(-0.9133692653197072), 'YZ': np.float64(0.08737217494615565), 'ZX': np.float64(-0.09118802422548916), 'ZY': np.float64(0.07247026046265612), 'ZZ': np.float64(0.9809808824068028)}\n"
     ]
    }
   ],
   "source": [
    "qubits.set_relationship( {'XX':1}, 0,1, fraction=0.5 )\n",
    "\n",
    "print(qubits.get_relationship(0,1))"
   ]
  },
  {
   "cell_type": "markdown",
   "metadata": {},
   "source": [
    "# Creating Algorithms\n",
    "\n",
    "By thinking of terms of these single- and two-qubit variables, and by manipulating them using the methods supplied, we can create algorithms to solve problems.\n",
    "\n",
    "A concrete example of this can be seen in\n",
    "\n",
    "* [\"A quantum procedure for map generation\", by James R. Wootton](https://arxiv.org/abs/2005.10327)\n",
    "\n",
    "where `quantumgraph` is used to implement a rudimentary AI for a Civilization-like game.\n",
    "\n",
    "Another example is\n",
    "\n",
    "* [\"Determining eigenstates and thermal states on a quantum computer using quantum imaginary time evolution\" by Motta, et al.](https://arxiv.org/abs/1901.07653)\n",
    "\n",
    "which is presents a method for calculating ground states for Hamiltonians of interacting particles. It uses the same basic idea as is implemented in `quantumgraph`, but with a $p$-local tomography in general (for finite $p$) and with its own custom methods to set the variables."
   ]
  },
  {
   "cell_type": "code",
   "execution_count": null,
   "metadata": {},
   "outputs": [],
   "source": []
  }
 ],
 "metadata": {
  "kernelspec": {
   "display_name": ".venv",
   "language": "python",
   "name": "python3"
  },
  "language_info": {
   "codemirror_mode": {
    "name": "ipython",
    "version": 3
   },
   "file_extension": ".py",
   "mimetype": "text/x-python",
   "name": "python",
   "nbconvert_exporter": "python",
   "pygments_lexer": "ipython3",
   "version": "3.11.9"
  }
 },
 "nbformat": 4,
 "nbformat_minor": 4
}
